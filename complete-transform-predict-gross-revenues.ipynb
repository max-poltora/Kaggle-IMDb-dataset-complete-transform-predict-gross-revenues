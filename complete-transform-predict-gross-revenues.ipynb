{
 "cells": [
  {
   "cell_type": "markdown",
   "id": "839636e0",
   "metadata": {
    "papermill": {
     "duration": 0.018217,
     "end_time": "2022-08-15T10:29:09.367004",
     "exception": false,
     "start_time": "2022-08-15T10:29:09.348787",
     "status": "completed"
    },
    "tags": []
   },
   "source": [
    "# IMDb movies dataset: clean up, complete, transform. Predict gross revenues"
   ]
  },
  {
   "cell_type": "markdown",
   "id": "1d9702d5",
   "metadata": {
    "papermill": {
     "duration": 0.015243,
     "end_time": "2022-08-15T10:29:09.398073",
     "exception": false,
     "start_time": "2022-08-15T10:29:09.382830",
     "status": "completed"
    },
    "tags": []
   },
   "source": [
    "<b id='top'><h2>Contents</h2></b>\n",
    "\n",
    "1. [Objectives definition](#section_1)\n",
    "2. [Data observation](#section_2)\n",
    "3. [Data preprocessing](#section_3) (prepare and clean data)\n",
    "4. [Data analysis and transformation](#section_4) (explore the data, identify patterns, engineer new attributes)\n",
    "6. [Model and predict](#section_5)"
   ]
  },
  {
   "cell_type": "markdown",
   "id": "fc0c3ccd",
   "metadata": {
    "papermill": {
     "duration": 0.015243,
     "end_time": "2022-08-15T10:29:09.431193",
     "exception": false,
     "start_time": "2022-08-15T10:29:09.415950",
     "status": "completed"
    },
    "tags": []
   },
   "source": [
    "<b id='section_1'><h3>Objectives definition</h3></b>[back to contents](#top)\n",
    "\n",
    "The IMDb dataset was obtained from Kaggle web site [page](https://www.kaggle.com/datasets/harshitshankhdhar/imdb-dataset-of-top-1000-movies-and-tv-shows). It consists of top 1000 movies and tv shows, each characterized with 16 attributes. According to metadata description, data was collected by web scrapping the IMDb web site. The maojor goal of present work was to predict the gross revenue of movies, provided in IMDb Movies Dataset with the help of Random Forest Regressor. The workflow was organized as follows: data preparation, data transformation, modelling, visualization of obtained results."
   ]
  },
  {
   "cell_type": "markdown",
   "id": "6bfc4985",
   "metadata": {
    "papermill": {
     "duration": 0.015009,
     "end_time": "2022-08-15T10:29:09.461600",
     "exception": false,
     "start_time": "2022-08-15T10:29:09.446591",
     "status": "completed"
    },
    "tags": []
   },
   "source": [
    "<b id='section_2'><h3>2. Data observation</h3></b>[back to contents](#top)\n",
    "\n",
    "Import libraries"
   ]
  },
  {
   "cell_type": "code",
   "execution_count": 1,
   "id": "90e04a87",
   "metadata": {
    "execution": {
     "iopub.execute_input": "2022-08-15T10:29:09.496207Z",
     "iopub.status.busy": "2022-08-15T10:29:09.495305Z",
     "iopub.status.idle": "2022-08-15T10:29:11.184802Z",
     "shell.execute_reply": "2022-08-15T10:29:11.183554Z"
    },
    "papermill": {
     "duration": 1.710486,
     "end_time": "2022-08-15T10:29:11.188235",
     "exception": false,
     "start_time": "2022-08-15T10:29:09.477749",
     "status": "completed"
    },
    "tags": []
   },
   "outputs": [],
   "source": [
    "import pandas as pd\n",
    "import numpy as np\n",
    "import matplotlib.pyplot as plt\n",
    "import seaborn as sns\n",
    "import warnings\n",
    "warnings.filterwarnings('ignore')\n",
    "\n",
    "from sklearn.model_selection import train_test_split\n",
    "from sklearn.ensemble import RandomForestRegressor\n",
    "from sklearn.metrics import mean_squared_error, r2_score, mean_absolute_error"
   ]
  },
  {
   "cell_type": "markdown",
   "id": "c6ee31de",
   "metadata": {
    "papermill": {
     "duration": 0.01612,
     "end_time": "2022-08-15T10:29:11.220200",
     "exception": false,
     "start_time": "2022-08-15T10:29:11.204080",
     "status": "completed"
    },
    "tags": []
   },
   "source": [
    "Download the dataset from [Kaggle](https://www.kaggle.com/datasets/harshitshankhdhar/imdb-dataset-of-top-1000-movies-and-tv-shows) and place it into the folder with jupyter notebook."
   ]
  },
  {
   "cell_type": "code",
   "execution_count": 2,
   "id": "3d0e3477",
   "metadata": {
    "execution": {
     "iopub.execute_input": "2022-08-15T10:29:11.253810Z",
     "iopub.status.busy": "2022-08-15T10:29:11.253290Z",
     "iopub.status.idle": "2022-08-15T10:29:11.297062Z",
     "shell.execute_reply": "2022-08-15T10:29:11.295643Z"
    },
    "papermill": {
     "duration": 0.064379,
     "end_time": "2022-08-15T10:29:11.300175",
     "exception": false,
     "start_time": "2022-08-15T10:29:11.235796",
     "status": "completed"
    },
    "tags": []
   },
   "outputs": [],
   "source": [
    "df = pd.read_csv('../input/imdb-dataset-of-top-1000-movies-and-tv-shows/imdb_top_1000.csv')"
   ]
  },
  {
   "cell_type": "markdown",
   "id": "e4411ac8",
   "metadata": {
    "papermill": {
     "duration": 0.015386,
     "end_time": "2022-08-15T10:29:11.331377",
     "exception": false,
     "start_time": "2022-08-15T10:29:11.315991",
     "status": "completed"
    },
    "tags": []
   },
   "source": [
    "We begin data description by answering following questions.\n",
    "\n",
    "__Which features are available?__\n",
    "\n",
    "Feature names are somewhat described at [Kaggle data page](https://www.kaggle.com/datasets/harshitshankhdhar/imdb-dataset-of-top-1000-movies-and-tv-shows). We summarize them as follows:\n",
    "* Poster_Link - Link to the poster image that IMDb is using\n",
    "* Series_Title - Title of a movie or a TV episode\n",
    "* Released_Year - Year a movie was released\n",
    "* Certificate -  Classification based on film’s suitability for various groups of audience\n",
    "* Runtime - Total runtime of a movie\n",
    "* Genre - Genre of a movie\n",
    "* IMDB_Rating - User ratings of films\n",
    "* Overview - Movie’s summary\n",
    "* Meta_score - Critics’ movie review score\n",
    "* Director - Name of a Director\n",
    "* Star1,Star2,Star3,Star4 - Names of casting actors\n",
    "* No_of_Votes - Total number of viewers’ votes\n",
    "* Gross - Gross revenue"
   ]
  },
  {
   "cell_type": "code",
   "execution_count": 3,
   "id": "6ec50967",
   "metadata": {
    "execution": {
     "iopub.execute_input": "2022-08-15T10:29:11.364759Z",
     "iopub.status.busy": "2022-08-15T10:29:11.363794Z",
     "iopub.status.idle": "2022-08-15T10:29:11.371426Z",
     "shell.execute_reply": "2022-08-15T10:29:11.370229Z"
    },
    "papermill": {
     "duration": 0.027101,
     "end_time": "2022-08-15T10:29:11.373911",
     "exception": false,
     "start_time": "2022-08-15T10:29:11.346810",
     "status": "completed"
    },
    "tags": []
   },
   "outputs": [
    {
     "name": "stdout",
     "output_type": "stream",
     "text": [
      "['Poster_Link' 'Series_Title' 'Released_Year' 'Certificate' 'Runtime'\n",
      " 'Genre' 'IMDB_Rating' 'Overview' 'Meta_score' 'Director' 'Star1' 'Star2'\n",
      " 'Star3' 'Star4' 'No_of_Votes' 'Gross']\n"
     ]
    }
   ],
   "source": [
    "print(df.columns.values)"
   ]
  },
  {
   "cell_type": "markdown",
   "id": "772ef8fe",
   "metadata": {
    "papermill": {
     "duration": 0.015138,
     "end_time": "2022-08-15T10:29:11.404760",
     "exception": false,
     "start_time": "2022-08-15T10:29:11.389622",
     "status": "completed"
    },
    "tags": []
   },
   "source": [
    "__Which features are categorical?__\n",
    "\n",
    "\"A categorical variable (also called qualitative variable) refers to a characteristic that can’t be quantifiable. Categorical variables can be either nominal or ordinal.\" ([\"Types of variables\" by Statistics Canada](https://www150.statcan.gc.ca/n1/edu/power-pouvoir/ch8/5214817-eng.htm))\n",
    "\n",
    "- Nominal: Series_Title, Genre, Overview, Director, Star1, Star2, Star3, Star4\n",
    "- Ordinal: Certificate (see e.g. [Central Board of Film Certification](https://en.wikipedia.org/wiki/Central_Board_of_Film_Certification))\n",
    "\n",
    "__Which features are numeric?__\n",
    "\n",
    "\"A numeric variable (also called quantitative variable) is a quantifiable characteristic whose values are numbers (except numbers which are codes standing up for categories). Numeric variables may be either continuous or discrete.\" ([\"Types of variables\" by Statistics Canada](https://www150.statcan.gc.ca/n1/edu/power-pouvoir/ch8/5214817-eng.htm))\n",
    "\n",
    "- Continuous: Runtime, No_of_Votes, Gross\n",
    "- Discrete: Released_Year, IMDB_Rating, Meta_score"
   ]
  },
  {
   "cell_type": "code",
   "execution_count": 4,
   "id": "bd8dc567",
   "metadata": {
    "execution": {
     "iopub.execute_input": "2022-08-15T10:29:11.439826Z",
     "iopub.status.busy": "2022-08-15T10:29:11.438345Z",
     "iopub.status.idle": "2022-08-15T10:29:11.471776Z",
     "shell.execute_reply": "2022-08-15T10:29:11.470343Z"
    },
    "papermill": {
     "duration": 0.053861,
     "end_time": "2022-08-15T10:29:11.474784",
     "exception": false,
     "start_time": "2022-08-15T10:29:11.420923",
     "status": "completed"
    },
    "tags": []
   },
   "outputs": [
    {
     "data": {
      "text/html": [
       "<div>\n",
       "<style scoped>\n",
       "    .dataframe tbody tr th:only-of-type {\n",
       "        vertical-align: middle;\n",
       "    }\n",
       "\n",
       "    .dataframe tbody tr th {\n",
       "        vertical-align: top;\n",
       "    }\n",
       "\n",
       "    .dataframe thead th {\n",
       "        text-align: right;\n",
       "    }\n",
       "</style>\n",
       "<table border=\"1\" class=\"dataframe\">\n",
       "  <thead>\n",
       "    <tr style=\"text-align: right;\">\n",
       "      <th></th>\n",
       "      <th>Poster_Link</th>\n",
       "      <th>Series_Title</th>\n",
       "      <th>Released_Year</th>\n",
       "      <th>Certificate</th>\n",
       "      <th>Runtime</th>\n",
       "      <th>Genre</th>\n",
       "      <th>IMDB_Rating</th>\n",
       "      <th>Overview</th>\n",
       "      <th>Meta_score</th>\n",
       "      <th>Director</th>\n",
       "      <th>Star1</th>\n",
       "      <th>Star2</th>\n",
       "      <th>Star3</th>\n",
       "      <th>Star4</th>\n",
       "      <th>No_of_Votes</th>\n",
       "      <th>Gross</th>\n",
       "    </tr>\n",
       "  </thead>\n",
       "  <tbody>\n",
       "    <tr>\n",
       "      <th>0</th>\n",
       "      <td>https://m.media-amazon.com/images/M/MV5BMDFkYT...</td>\n",
       "      <td>The Shawshank Redemption</td>\n",
       "      <td>1994</td>\n",
       "      <td>A</td>\n",
       "      <td>142 min</td>\n",
       "      <td>Drama</td>\n",
       "      <td>9.3</td>\n",
       "      <td>Two imprisoned men bond over a number of years...</td>\n",
       "      <td>80.0</td>\n",
       "      <td>Frank Darabont</td>\n",
       "      <td>Tim Robbins</td>\n",
       "      <td>Morgan Freeman</td>\n",
       "      <td>Bob Gunton</td>\n",
       "      <td>William Sadler</td>\n",
       "      <td>2343110</td>\n",
       "      <td>28,341,469</td>\n",
       "    </tr>\n",
       "    <tr>\n",
       "      <th>1</th>\n",
       "      <td>https://m.media-amazon.com/images/M/MV5BM2MyNj...</td>\n",
       "      <td>The Godfather</td>\n",
       "      <td>1972</td>\n",
       "      <td>A</td>\n",
       "      <td>175 min</td>\n",
       "      <td>Crime, Drama</td>\n",
       "      <td>9.2</td>\n",
       "      <td>An organized crime dynasty's aging patriarch t...</td>\n",
       "      <td>100.0</td>\n",
       "      <td>Francis Ford Coppola</td>\n",
       "      <td>Marlon Brando</td>\n",
       "      <td>Al Pacino</td>\n",
       "      <td>James Caan</td>\n",
       "      <td>Diane Keaton</td>\n",
       "      <td>1620367</td>\n",
       "      <td>134,966,411</td>\n",
       "    </tr>\n",
       "    <tr>\n",
       "      <th>2</th>\n",
       "      <td>https://m.media-amazon.com/images/M/MV5BMTMxNT...</td>\n",
       "      <td>The Dark Knight</td>\n",
       "      <td>2008</td>\n",
       "      <td>UA</td>\n",
       "      <td>152 min</td>\n",
       "      <td>Action, Crime, Drama</td>\n",
       "      <td>9.0</td>\n",
       "      <td>When the menace known as the Joker wreaks havo...</td>\n",
       "      <td>84.0</td>\n",
       "      <td>Christopher Nolan</td>\n",
       "      <td>Christian Bale</td>\n",
       "      <td>Heath Ledger</td>\n",
       "      <td>Aaron Eckhart</td>\n",
       "      <td>Michael Caine</td>\n",
       "      <td>2303232</td>\n",
       "      <td>534,858,444</td>\n",
       "    </tr>\n",
       "    <tr>\n",
       "      <th>3</th>\n",
       "      <td>https://m.media-amazon.com/images/M/MV5BMWMwMG...</td>\n",
       "      <td>The Godfather: Part II</td>\n",
       "      <td>1974</td>\n",
       "      <td>A</td>\n",
       "      <td>202 min</td>\n",
       "      <td>Crime, Drama</td>\n",
       "      <td>9.0</td>\n",
       "      <td>The early life and career of Vito Corleone in ...</td>\n",
       "      <td>90.0</td>\n",
       "      <td>Francis Ford Coppola</td>\n",
       "      <td>Al Pacino</td>\n",
       "      <td>Robert De Niro</td>\n",
       "      <td>Robert Duvall</td>\n",
       "      <td>Diane Keaton</td>\n",
       "      <td>1129952</td>\n",
       "      <td>57,300,000</td>\n",
       "    </tr>\n",
       "    <tr>\n",
       "      <th>4</th>\n",
       "      <td>https://m.media-amazon.com/images/M/MV5BMWU4N2...</td>\n",
       "      <td>12 Angry Men</td>\n",
       "      <td>1957</td>\n",
       "      <td>U</td>\n",
       "      <td>96 min</td>\n",
       "      <td>Crime, Drama</td>\n",
       "      <td>9.0</td>\n",
       "      <td>A jury holdout attempts to prevent a miscarria...</td>\n",
       "      <td>96.0</td>\n",
       "      <td>Sidney Lumet</td>\n",
       "      <td>Henry Fonda</td>\n",
       "      <td>Lee J. Cobb</td>\n",
       "      <td>Martin Balsam</td>\n",
       "      <td>John Fiedler</td>\n",
       "      <td>689845</td>\n",
       "      <td>4,360,000</td>\n",
       "    </tr>\n",
       "  </tbody>\n",
       "</table>\n",
       "</div>"
      ],
      "text/plain": [
       "                                         Poster_Link  \\\n",
       "0  https://m.media-amazon.com/images/M/MV5BMDFkYT...   \n",
       "1  https://m.media-amazon.com/images/M/MV5BM2MyNj...   \n",
       "2  https://m.media-amazon.com/images/M/MV5BMTMxNT...   \n",
       "3  https://m.media-amazon.com/images/M/MV5BMWMwMG...   \n",
       "4  https://m.media-amazon.com/images/M/MV5BMWU4N2...   \n",
       "\n",
       "               Series_Title Released_Year Certificate  Runtime  \\\n",
       "0  The Shawshank Redemption          1994           A  142 min   \n",
       "1             The Godfather          1972           A  175 min   \n",
       "2           The Dark Knight          2008          UA  152 min   \n",
       "3    The Godfather: Part II          1974           A  202 min   \n",
       "4              12 Angry Men          1957           U   96 min   \n",
       "\n",
       "                  Genre  IMDB_Rating  \\\n",
       "0                 Drama          9.3   \n",
       "1          Crime, Drama          9.2   \n",
       "2  Action, Crime, Drama          9.0   \n",
       "3          Crime, Drama          9.0   \n",
       "4          Crime, Drama          9.0   \n",
       "\n",
       "                                            Overview  Meta_score  \\\n",
       "0  Two imprisoned men bond over a number of years...        80.0   \n",
       "1  An organized crime dynasty's aging patriarch t...       100.0   \n",
       "2  When the menace known as the Joker wreaks havo...        84.0   \n",
       "3  The early life and career of Vito Corleone in ...        90.0   \n",
       "4  A jury holdout attempts to prevent a miscarria...        96.0   \n",
       "\n",
       "               Director           Star1           Star2          Star3  \\\n",
       "0        Frank Darabont     Tim Robbins  Morgan Freeman     Bob Gunton   \n",
       "1  Francis Ford Coppola   Marlon Brando       Al Pacino     James Caan   \n",
       "2     Christopher Nolan  Christian Bale    Heath Ledger  Aaron Eckhart   \n",
       "3  Francis Ford Coppola       Al Pacino  Robert De Niro  Robert Duvall   \n",
       "4          Sidney Lumet     Henry Fonda     Lee J. Cobb  Martin Balsam   \n",
       "\n",
       "            Star4  No_of_Votes        Gross  \n",
       "0  William Sadler      2343110   28,341,469  \n",
       "1    Diane Keaton      1620367  134,966,411  \n",
       "2   Michael Caine      2303232  534,858,444  \n",
       "3    Diane Keaton      1129952   57,300,000  \n",
       "4    John Fiedler       689845    4,360,000  "
      ]
     },
     "execution_count": 4,
     "metadata": {},
     "output_type": "execute_result"
    }
   ],
   "source": [
    "# Data preview\n",
    "df.head()"
   ]
  },
  {
   "cell_type": "markdown",
   "id": "825ebf4c",
   "metadata": {
    "papermill": {
     "duration": 0.016808,
     "end_time": "2022-08-15T10:29:11.508871",
     "exception": false,
     "start_time": "2022-08-15T10:29:11.492063",
     "status": "completed"
    },
    "tags": []
   },
   "source": [
    "__What are the data types for attributes?__\n",
    "\n",
    "Two features are floats, one is integer and 13 - strings (objects). \n",
    "\n",
    "__Which features contain errors or typos?__\n",
    "\n",
    "Released_Year might contain errors, as it is classified as numeric, but appears as object data type in the table. Runtime contains alphanumeric values. Gross contains values with several decimal separators, thereby classified as strings."
   ]
  },
  {
   "cell_type": "code",
   "execution_count": 5,
   "id": "bbef5e53",
   "metadata": {
    "execution": {
     "iopub.execute_input": "2022-08-15T10:29:11.546106Z",
     "iopub.status.busy": "2022-08-15T10:29:11.544997Z",
     "iopub.status.idle": "2022-08-15T10:29:11.575098Z",
     "shell.execute_reply": "2022-08-15T10:29:11.573801Z"
    },
    "papermill": {
     "duration": 0.051768,
     "end_time": "2022-08-15T10:29:11.577983",
     "exception": false,
     "start_time": "2022-08-15T10:29:11.526215",
     "status": "completed"
    },
    "tags": []
   },
   "outputs": [
    {
     "name": "stdout",
     "output_type": "stream",
     "text": [
      "<class 'pandas.core.frame.DataFrame'>\n",
      "RangeIndex: 1000 entries, 0 to 999\n",
      "Data columns (total 16 columns):\n",
      " #   Column         Non-Null Count  Dtype  \n",
      "---  ------         --------------  -----  \n",
      " 0   Poster_Link    1000 non-null   object \n",
      " 1   Series_Title   1000 non-null   object \n",
      " 2   Released_Year  1000 non-null   object \n",
      " 3   Certificate    899 non-null    object \n",
      " 4   Runtime        1000 non-null   object \n",
      " 5   Genre          1000 non-null   object \n",
      " 6   IMDB_Rating    1000 non-null   float64\n",
      " 7   Overview       1000 non-null   object \n",
      " 8   Meta_score     843 non-null    float64\n",
      " 9   Director       1000 non-null   object \n",
      " 10  Star1          1000 non-null   object \n",
      " 11  Star2          1000 non-null   object \n",
      " 12  Star3          1000 non-null   object \n",
      " 13  Star4          1000 non-null   object \n",
      " 14  No_of_Votes    1000 non-null   int64  \n",
      " 15  Gross          831 non-null    object \n",
      "dtypes: float64(2), int64(1), object(13)\n",
      "memory usage: 125.1+ KB\n"
     ]
    }
   ],
   "source": [
    "df.info()"
   ]
  },
  {
   "cell_type": "markdown",
   "id": "1ed5a9ed",
   "metadata": {
    "papermill": {
     "duration": 0.018368,
     "end_time": "2022-08-15T10:29:11.617783",
     "exception": false,
     "start_time": "2022-08-15T10:29:11.599415",
     "status": "completed"
    },
    "tags": []
   },
   "source": [
    "Further, Certificate feature contains errors, as certificate abbreviature correspond to various film certification systems (Motion Picture Association and Central Board of Film Certification in this dataset)."
   ]
  },
  {
   "cell_type": "code",
   "execution_count": 6,
   "id": "c3f33b20",
   "metadata": {
    "execution": {
     "iopub.execute_input": "2022-08-15T10:29:11.666504Z",
     "iopub.status.busy": "2022-08-15T10:29:11.665649Z",
     "iopub.status.idle": "2022-08-15T10:29:11.676455Z",
     "shell.execute_reply": "2022-08-15T10:29:11.675444Z"
    },
    "papermill": {
     "duration": 0.036169,
     "end_time": "2022-08-15T10:29:11.678696",
     "exception": false,
     "start_time": "2022-08-15T10:29:11.642527",
     "status": "completed"
    },
    "tags": []
   },
   "outputs": [
    {
     "data": {
      "text/plain": [
       "U           234\n",
       "A           197\n",
       "UA          175\n",
       "R           146\n",
       "PG-13        43\n",
       "PG           37\n",
       "Passed       34\n",
       "G            12\n",
       "Approved     11\n",
       "TV-PG         3\n",
       "GP            2\n",
       "TV-14         1\n",
       "16            1\n",
       "TV-MA         1\n",
       "Unrated       1\n",
       "U/A           1\n",
       "Name: Certificate, dtype: int64"
      ]
     },
     "execution_count": 6,
     "metadata": {},
     "output_type": "execute_result"
    }
   ],
   "source": [
    "df.Certificate.value_counts()"
   ]
  },
  {
   "cell_type": "markdown",
   "id": "5a46e17d",
   "metadata": {
    "papermill": {
     "duration": 0.017139,
     "end_time": "2022-08-15T10:29:11.723027",
     "exception": false,
     "start_time": "2022-08-15T10:29:11.705888",
     "status": "completed"
    },
    "tags": []
   },
   "source": [
    "### Conclusions based on preliminary data observation\n",
    "\n",
    "This is the first set of conclusions we draw based on initial data analysis. We are going to complement it by evaluating data after data preprocessing. \n",
    "- Make fewer data points, speed up our notebook and ease further analysis\n",
    "    - Drop Poster_Link as it contains no insight information (only the web link)\n",
    "    - Create a subset with Overview feature and remove it from main dataset\n",
    "- Explore, correct and transform the Released_Year feature\n",
    "- Cleanse and complete Certificate feature\n",
    "- Correct and transform the Runtime feature\n",
    "- Correct and transform the Gross feature"
   ]
  },
  {
   "cell_type": "markdown",
   "id": "d8762948",
   "metadata": {
    "papermill": {
     "duration": 0.016185,
     "end_time": "2022-08-15T10:29:11.756596",
     "exception": false,
     "start_time": "2022-08-15T10:29:11.740411",
     "status": "completed"
    },
    "tags": []
   },
   "source": [
    "<b id='section_3'><h3>3. Data preprocessing</h3></b>[back to contents](#top)\n",
    "\n",
    "First we are going to drop couple of features to make fewer data points, speed up our notebook and ease further analysis."
   ]
  },
  {
   "cell_type": "code",
   "execution_count": 7,
   "id": "8f791f6c",
   "metadata": {
    "execution": {
     "iopub.execute_input": "2022-08-15T10:29:11.792687Z",
     "iopub.status.busy": "2022-08-15T10:29:11.792141Z",
     "iopub.status.idle": "2022-08-15T10:29:11.821303Z",
     "shell.execute_reply": "2022-08-15T10:29:11.820295Z"
    },
    "papermill": {
     "duration": 0.050642,
     "end_time": "2022-08-15T10:29:11.823909",
     "exception": false,
     "start_time": "2022-08-15T10:29:11.773267",
     "status": "completed"
    },
    "tags": []
   },
   "outputs": [
    {
     "data": {
      "text/html": [
       "<div>\n",
       "<style scoped>\n",
       "    .dataframe tbody tr th:only-of-type {\n",
       "        vertical-align: middle;\n",
       "    }\n",
       "\n",
       "    .dataframe tbody tr th {\n",
       "        vertical-align: top;\n",
       "    }\n",
       "\n",
       "    .dataframe thead th {\n",
       "        text-align: right;\n",
       "    }\n",
       "</style>\n",
       "<table border=\"1\" class=\"dataframe\">\n",
       "  <thead>\n",
       "    <tr style=\"text-align: right;\">\n",
       "      <th></th>\n",
       "      <th>Released_Year</th>\n",
       "      <th>Certificate</th>\n",
       "      <th>Runtime</th>\n",
       "      <th>Genre</th>\n",
       "      <th>IMDB_Rating</th>\n",
       "      <th>Meta_score</th>\n",
       "      <th>Director</th>\n",
       "      <th>Star1</th>\n",
       "      <th>Star2</th>\n",
       "      <th>Star3</th>\n",
       "      <th>Star4</th>\n",
       "      <th>No_of_Votes</th>\n",
       "      <th>Gross</th>\n",
       "    </tr>\n",
       "  </thead>\n",
       "  <tbody>\n",
       "    <tr>\n",
       "      <th>0</th>\n",
       "      <td>1994</td>\n",
       "      <td>A</td>\n",
       "      <td>142 min</td>\n",
       "      <td>Drama</td>\n",
       "      <td>9.3</td>\n",
       "      <td>80.0</td>\n",
       "      <td>Frank Darabont</td>\n",
       "      <td>Tim Robbins</td>\n",
       "      <td>Morgan Freeman</td>\n",
       "      <td>Bob Gunton</td>\n",
       "      <td>William Sadler</td>\n",
       "      <td>2343110</td>\n",
       "      <td>28,341,469</td>\n",
       "    </tr>\n",
       "    <tr>\n",
       "      <th>1</th>\n",
       "      <td>1972</td>\n",
       "      <td>A</td>\n",
       "      <td>175 min</td>\n",
       "      <td>Crime, Drama</td>\n",
       "      <td>9.2</td>\n",
       "      <td>100.0</td>\n",
       "      <td>Francis Ford Coppola</td>\n",
       "      <td>Marlon Brando</td>\n",
       "      <td>Al Pacino</td>\n",
       "      <td>James Caan</td>\n",
       "      <td>Diane Keaton</td>\n",
       "      <td>1620367</td>\n",
       "      <td>134,966,411</td>\n",
       "    </tr>\n",
       "    <tr>\n",
       "      <th>2</th>\n",
       "      <td>2008</td>\n",
       "      <td>UA</td>\n",
       "      <td>152 min</td>\n",
       "      <td>Action, Crime, Drama</td>\n",
       "      <td>9.0</td>\n",
       "      <td>84.0</td>\n",
       "      <td>Christopher Nolan</td>\n",
       "      <td>Christian Bale</td>\n",
       "      <td>Heath Ledger</td>\n",
       "      <td>Aaron Eckhart</td>\n",
       "      <td>Michael Caine</td>\n",
       "      <td>2303232</td>\n",
       "      <td>534,858,444</td>\n",
       "    </tr>\n",
       "    <tr>\n",
       "      <th>3</th>\n",
       "      <td>1974</td>\n",
       "      <td>A</td>\n",
       "      <td>202 min</td>\n",
       "      <td>Crime, Drama</td>\n",
       "      <td>9.0</td>\n",
       "      <td>90.0</td>\n",
       "      <td>Francis Ford Coppola</td>\n",
       "      <td>Al Pacino</td>\n",
       "      <td>Robert De Niro</td>\n",
       "      <td>Robert Duvall</td>\n",
       "      <td>Diane Keaton</td>\n",
       "      <td>1129952</td>\n",
       "      <td>57,300,000</td>\n",
       "    </tr>\n",
       "    <tr>\n",
       "      <th>4</th>\n",
       "      <td>1957</td>\n",
       "      <td>U</td>\n",
       "      <td>96 min</td>\n",
       "      <td>Crime, Drama</td>\n",
       "      <td>9.0</td>\n",
       "      <td>96.0</td>\n",
       "      <td>Sidney Lumet</td>\n",
       "      <td>Henry Fonda</td>\n",
       "      <td>Lee J. Cobb</td>\n",
       "      <td>Martin Balsam</td>\n",
       "      <td>John Fiedler</td>\n",
       "      <td>689845</td>\n",
       "      <td>4,360,000</td>\n",
       "    </tr>\n",
       "  </tbody>\n",
       "</table>\n",
       "</div>"
      ],
      "text/plain": [
       "  Released_Year Certificate  Runtime                 Genre  IMDB_Rating  \\\n",
       "0          1994           A  142 min                 Drama          9.3   \n",
       "1          1972           A  175 min          Crime, Drama          9.2   \n",
       "2          2008          UA  152 min  Action, Crime, Drama          9.0   \n",
       "3          1974           A  202 min          Crime, Drama          9.0   \n",
       "4          1957           U   96 min          Crime, Drama          9.0   \n",
       "\n",
       "   Meta_score              Director           Star1           Star2  \\\n",
       "0        80.0        Frank Darabont     Tim Robbins  Morgan Freeman   \n",
       "1       100.0  Francis Ford Coppola   Marlon Brando       Al Pacino   \n",
       "2        84.0     Christopher Nolan  Christian Bale    Heath Ledger   \n",
       "3        90.0  Francis Ford Coppola       Al Pacino  Robert De Niro   \n",
       "4        96.0          Sidney Lumet     Henry Fonda     Lee J. Cobb   \n",
       "\n",
       "           Star3           Star4  No_of_Votes        Gross  \n",
       "0     Bob Gunton  William Sadler      2343110   28,341,469  \n",
       "1     James Caan    Diane Keaton      1620367  134,966,411  \n",
       "2  Aaron Eckhart   Michael Caine      2303232  534,858,444  \n",
       "3  Robert Duvall    Diane Keaton      1129952   57,300,000  \n",
       "4  Martin Balsam    John Fiedler       689845    4,360,000  "
      ]
     },
     "execution_count": 7,
     "metadata": {},
     "output_type": "execute_result"
    }
   ],
   "source": [
    "df_Overview = df[['Series_Title', 'Overview']]\n",
    "df = df.drop(df[['Poster_Link', 'Series_Title', 'Overview']], axis=1)\n",
    "df.head()"
   ]
  },
  {
   "cell_type": "markdown",
   "id": "17cfd1eb",
   "metadata": {
    "papermill": {
     "duration": 0.018098,
     "end_time": "2022-08-15T10:29:11.860227",
     "exception": false,
     "start_time": "2022-08-15T10:29:11.842129",
     "status": "completed"
    },
    "tags": []
   },
   "source": [
    "`df.info()` does not show any missing values, which means, that some values in Released_Year contain either letters or combination of letters and numbers. By running the command below, we discover, that 967th value contains a typo: string 'PG' instead of year."
   ]
  },
  {
   "cell_type": "code",
   "execution_count": 8,
   "id": "857e839e",
   "metadata": {
    "execution": {
     "iopub.execute_input": "2022-08-15T10:29:11.898538Z",
     "iopub.status.busy": "2022-08-15T10:29:11.897671Z",
     "iopub.status.idle": "2022-08-15T10:29:11.908007Z",
     "shell.execute_reply": "2022-08-15T10:29:11.907006Z"
    },
    "papermill": {
     "duration": 0.032361,
     "end_time": "2022-08-15T10:29:11.910614",
     "exception": false,
     "start_time": "2022-08-15T10:29:11.878253",
     "status": "completed"
    },
    "tags": []
   },
   "outputs": [
    {
     "data": {
      "text/plain": [
       "966    PG\n",
       "Name: Released_Year, dtype: object"
      ]
     },
     "execution_count": 8,
     "metadata": {},
     "output_type": "execute_result"
    }
   ],
   "source": [
    "df.Released_Year[list(map(str.isalpha, df.Released_Year))]"
   ]
  },
  {
   "cell_type": "markdown",
   "id": "8eb4f4a9",
   "metadata": {
    "papermill": {
     "duration": 0.017072,
     "end_time": "2022-08-15T10:29:11.946058",
     "exception": false,
     "start_time": "2022-08-15T10:29:11.928986",
     "status": "completed"
    },
    "tags": []
   },
   "source": [
    "We can replace missing value by finding out the release year, which was 1995."
   ]
  },
  {
   "cell_type": "code",
   "execution_count": 9,
   "id": "07ab47f2",
   "metadata": {
    "execution": {
     "iopub.execute_input": "2022-08-15T10:29:11.982901Z",
     "iopub.status.busy": "2022-08-15T10:29:11.982048Z",
     "iopub.status.idle": "2022-08-15T10:29:11.992823Z",
     "shell.execute_reply": "2022-08-15T10:29:11.991659Z"
    },
    "papermill": {
     "duration": 0.03245,
     "end_time": "2022-08-15T10:29:11.995679",
     "exception": false,
     "start_time": "2022-08-15T10:29:11.963229",
     "status": "completed"
    },
    "scrolled": true,
    "tags": []
   },
   "outputs": [],
   "source": [
    "df.Released_Year[df.Released_Year == 'PG'] = 1995\n",
    "df.Released_Year = df.Released_Year.astype('int')"
   ]
  },
  {
   "cell_type": "markdown",
   "id": "9d0d4b76",
   "metadata": {
    "papermill": {
     "duration": 0.016861,
     "end_time": "2022-08-15T10:29:12.030806",
     "exception": false,
     "start_time": "2022-08-15T10:29:12.013945",
     "status": "completed"
    },
    "tags": []
   },
   "source": [
    "Modify the Runtime and Gross features to numeric"
   ]
  },
  {
   "cell_type": "code",
   "execution_count": 10,
   "id": "786804b7",
   "metadata": {
    "execution": {
     "iopub.execute_input": "2022-08-15T10:29:12.072777Z",
     "iopub.status.busy": "2022-08-15T10:29:12.071205Z",
     "iopub.status.idle": "2022-08-15T10:29:12.084484Z",
     "shell.execute_reply": "2022-08-15T10:29:12.083391Z"
    },
    "papermill": {
     "duration": 0.036823,
     "end_time": "2022-08-15T10:29:12.087176",
     "exception": false,
     "start_time": "2022-08-15T10:29:12.050353",
     "status": "completed"
    },
    "tags": []
   },
   "outputs": [],
   "source": [
    "# df.Runtime = [x.replace(' min', '') for x in df.Runtime]\n",
    "# df.Runtime = df.Runtime.astype('int')\n",
    "df.Runtime = df.Runtime.apply(lambda x: x.replace(' min', '')).astype('int')\n",
    "df.Gross = df.Gross[df.Gross.notnull()].apply(lambda x: x.replace(',', '')).astype('float')"
   ]
  },
  {
   "cell_type": "markdown",
   "id": "ac62e7d2",
   "metadata": {
    "papermill": {
     "duration": 0.017077,
     "end_time": "2022-08-15T10:29:12.121618",
     "exception": false,
     "start_time": "2022-08-15T10:29:12.104541",
     "status": "completed"
    },
    "tags": []
   },
   "source": [
    "We are going to set Certificate values to one of the certificate systems. As can be observed, most of film certificates in the dataset are based on [Central Board of Film Certification](https://en.wikipedia.org/wiki/Central_Board_of_Film_Certification) (CBFC) with fewer - on [Motion Picture Association film rating system](https://en.wikipedia.org/wiki/Motion_Picture_Association_film_rating_system#:~:text=Rated%20G%3A%20General%20audiences%20%E2%80%93%20All,accompanying%20parent%20or%20adult%20guardian)(MPAA). We are going to rely upon the following comparison table.\n",
    "\n",
    "| CBFC | MPAA Movies | MPAA TV | Description |\n",
    "| - | - | - | - |\n",
    "| U | G, PG | TV-Y, TV-Y7, TV-G, TV-PG | Unrestricted public exhibition, suitable for all ages |\n",
    "| UA | PG-13 | TV-14 | Unrestricted public exhibition but with caution to give parental guidance for under 12 |\n",
    "| A | R, NC-17 | TV-MA | Only adults are allowed to view these programs |\n",
    "\n"
   ]
  },
  {
   "cell_type": "code",
   "execution_count": 11,
   "id": "8f0ea031",
   "metadata": {
    "execution": {
     "iopub.execute_input": "2022-08-15T10:29:12.161093Z",
     "iopub.status.busy": "2022-08-15T10:29:12.160187Z",
     "iopub.status.idle": "2022-08-15T10:29:12.176209Z",
     "shell.execute_reply": "2022-08-15T10:29:12.174864Z"
    },
    "papermill": {
     "duration": 0.038834,
     "end_time": "2022-08-15T10:29:12.178941",
     "exception": false,
     "start_time": "2022-08-15T10:29:12.140107",
     "status": "completed"
    },
    "tags": []
   },
   "outputs": [
    {
     "data": {
      "text/plain": [
       "A           344\n",
       "U           286\n",
       "UA          219\n",
       "Passed       34\n",
       "Approved     11\n",
       "GP            2\n",
       "16            1\n",
       "Unrated       1\n",
       "U/A           1\n",
       "Name: Certificate, dtype: int64"
      ]
     },
     "execution_count": 11,
     "metadata": {},
     "output_type": "execute_result"
    }
   ],
   "source": [
    "certificate_mapping = {}\n",
    "\n",
    "for i in 'G,PG,TV-Y,TV-Y7,TV-G,TV-PG'.split(','):\n",
    "    certificate_mapping[i] = 'U'\n",
    "for i in 'PG-13,TV-14'.split(','):\n",
    "    certificate_mapping[i] = 'UA'\n",
    "for i in 'R,NC-17,TV-MA'.split(','):\n",
    "    certificate_mapping[i] = 'A'\n",
    "    \n",
    "df.replace({'Certificate': certificate_mapping}, inplace=True)\n",
    "df.Certificate.value_counts()"
   ]
  },
  {
   "cell_type": "markdown",
   "id": "cd308148",
   "metadata": {
    "papermill": {
     "duration": 0.016857,
     "end_time": "2022-08-15T10:29:12.213348",
     "exception": false,
     "start_time": "2022-08-15T10:29:12.196491",
     "status": "completed"
    },
    "tags": []
   },
   "source": [
    "Further, we are going to relate values 'Passed', 'Approved', '16', 'U/A' to 'UA' category. Value 'GP' seems to be a typo from 'PG', while 'Unrated' is going to be replaced by the most common certificate."
   ]
  },
  {
   "cell_type": "code",
   "execution_count": 12,
   "id": "2efb348a",
   "metadata": {
    "execution": {
     "iopub.execute_input": "2022-08-15T10:29:12.251135Z",
     "iopub.status.busy": "2022-08-15T10:29:12.249960Z",
     "iopub.status.idle": "2022-08-15T10:29:12.274519Z",
     "shell.execute_reply": "2022-08-15T10:29:12.273162Z"
    },
    "papermill": {
     "duration": 0.04684,
     "end_time": "2022-08-15T10:29:12.277390",
     "exception": false,
     "start_time": "2022-08-15T10:29:12.230550",
     "status": "completed"
    },
    "tags": []
   },
   "outputs": [
    {
     "data": {
      "text/plain": [
       "A     344\n",
       "U     288\n",
       "UA    266\n",
       "Name: Certificate, dtype: int64"
      ]
     },
     "execution_count": 12,
     "metadata": {},
     "output_type": "execute_result"
    }
   ],
   "source": [
    "for i in ['Passed', 'Approved', '16', 'U/A']:\n",
    "    certificate_mapping[i] = 'UA'\n",
    "\n",
    "df.Certificate[df.Certificate == 'GP'] = 'PG'\n",
    "df.replace({'Certificate': certificate_mapping}, inplace=True)\n",
    "df.Certificate[df.Certificate == 'Unrated'] = df.Certificate.mode()\n",
    "df.Certificate.value_counts()"
   ]
  },
  {
   "cell_type": "markdown",
   "id": "fa26e435",
   "metadata": {
    "papermill": {
     "duration": 0.016796,
     "end_time": "2022-08-15T10:29:12.311949",
     "exception": false,
     "start_time": "2022-08-15T10:29:12.295153",
     "status": "completed"
    },
    "tags": []
   },
   "source": [
    "After cleaning Certificate attribute, we still have 102 missing values."
   ]
  },
  {
   "cell_type": "code",
   "execution_count": 13,
   "id": "f90b2f31",
   "metadata": {
    "execution": {
     "iopub.execute_input": "2022-08-15T10:29:12.349239Z",
     "iopub.status.busy": "2022-08-15T10:29:12.348743Z",
     "iopub.status.idle": "2022-08-15T10:29:12.358200Z",
     "shell.execute_reply": "2022-08-15T10:29:12.356766Z"
    },
    "papermill": {
     "duration": 0.031593,
     "end_time": "2022-08-15T10:29:12.361143",
     "exception": false,
     "start_time": "2022-08-15T10:29:12.329550",
     "status": "completed"
    },
    "tags": []
   },
   "outputs": [
    {
     "data": {
      "text/plain": [
       "102"
      ]
     },
     "execution_count": 13,
     "metadata": {},
     "output_type": "execute_result"
    }
   ],
   "source": [
    "df.Certificate.isnull().sum()"
   ]
  },
  {
   "cell_type": "markdown",
   "id": "cb8ab767",
   "metadata": {
    "papermill": {
     "duration": 0.01723,
     "end_time": "2022-08-15T10:29:12.398081",
     "exception": false,
     "start_time": "2022-08-15T10:29:12.380851",
     "status": "completed"
    },
    "tags": []
   },
   "source": [
    "In general, films are certified to help an audience make informed viewing choices. In fact, film genres can be considered an essence of movie's content, upon which rating is done. IMDb provides [definitions](https://help.imdb.com/article/contribution/titles/genres/GZDRMS6R742JRGAG?ref_=helpms_helpart_inline#) for each particular genre. In context of current classification problem, we may assume, that, for instance, Family or Fantasy films are more likely to be available for a broad audience without restricions, while such genres as Crime or Horror might contain material inapropriate for kids or teenagers. The Genre attribute of the dataset bears genre tags with some films tagged with few genres. To verify above mentioned assumption, we are going to obtain frequency distribution of film genre tags by certificate type. First, we are going to find out all unique genres in the dataset, and how many times each of them is met."
   ]
  },
  {
   "cell_type": "code",
   "execution_count": 14,
   "id": "0884c1d4",
   "metadata": {
    "execution": {
     "iopub.execute_input": "2022-08-15T10:29:12.437979Z",
     "iopub.status.busy": "2022-08-15T10:29:12.436560Z",
     "iopub.status.idle": "2022-08-15T10:29:12.622809Z",
     "shell.execute_reply": "2022-08-15T10:29:12.621056Z"
    },
    "papermill": {
     "duration": 0.209377,
     "end_time": "2022-08-15T10:29:12.625921",
     "exception": false,
     "start_time": "2022-08-15T10:29:12.416544",
     "status": "completed"
    },
    "tags": []
   },
   "outputs": [
    {
     "name": "stdout",
     "output_type": "stream",
     "text": [
      "           Freq\n",
      "Drama       724\n",
      "Comedy      233\n",
      "Crime       209\n",
      "Adventure   196\n",
      "Action      189\n",
      "Thriller    137\n",
      "Romance     125\n",
      "Biography   109\n",
      "Mystery      99\n",
      "Animation    82\n",
      "Sci-Fi       67\n",
      "Fantasy      66\n",
      "History      56\n",
      "Family       56\n",
      "War          51\n",
      "Music        35\n",
      "Horror       32\n",
      "Western      20\n",
      "Film-Noir    19\n",
      "Sport        19\n",
      "Musical      17\n",
      "------------------------------\n",
      "Total number of genres is  21\n"
     ]
    }
   ],
   "source": [
    "genres = []\n",
    "for i in df.Genre:\n",
    "    j = i.split(', ')\n",
    "    for n in range(len(j)):\n",
    "        genres.append(j[n])\n",
    "genres_unique = np.unique([genre for genre in genres])\n",
    "genres_count = {genre: genres.count(genre) for genre in genres}\n",
    "\n",
    "print(pd.DataFrame.from_dict(genres_count, orient='index', columns=['Freq']).sort_values('Freq', ascending=False))\n",
    "print('-'*30)\n",
    "print('Total number of genres is ', len(genres_unique))"
   ]
  },
  {
   "cell_type": "markdown",
   "id": "306d9b5d",
   "metadata": {
    "papermill": {
     "duration": 0.017268,
     "end_time": "2022-08-15T10:29:12.660906",
     "exception": false,
     "start_time": "2022-08-15T10:29:12.643638",
     "status": "completed"
    },
    "tags": []
   },
   "source": [
    "Thus, there are 21 unique genre tags with Drama being the most common. Further, we are going to check their frequency distribution by certificate type."
   ]
  },
  {
   "cell_type": "code",
   "execution_count": 15,
   "id": "c7473ab1",
   "metadata": {
    "execution": {
     "iopub.execute_input": "2022-08-15T10:29:12.699913Z",
     "iopub.status.busy": "2022-08-15T10:29:12.698493Z",
     "iopub.status.idle": "2022-08-15T10:29:12.812034Z",
     "shell.execute_reply": "2022-08-15T10:29:12.810765Z"
    },
    "papermill": {
     "duration": 0.135973,
     "end_time": "2022-08-15T10:29:12.814573",
     "exception": false,
     "start_time": "2022-08-15T10:29:12.678600",
     "status": "completed"
    },
    "tags": []
   },
   "outputs": [
    {
     "data": {
      "text/html": [
       "<div>\n",
       "<style scoped>\n",
       "    .dataframe tbody tr th:only-of-type {\n",
       "        vertical-align: middle;\n",
       "    }\n",
       "\n",
       "    .dataframe tbody tr th {\n",
       "        vertical-align: top;\n",
       "    }\n",
       "\n",
       "    .dataframe thead th {\n",
       "        text-align: right;\n",
       "    }\n",
       "</style>\n",
       "<table border=\"1\" class=\"dataframe\">\n",
       "  <thead>\n",
       "    <tr style=\"text-align: right;\">\n",
       "      <th></th>\n",
       "      <th>U</th>\n",
       "      <th>UA</th>\n",
       "      <th>A</th>\n",
       "      <th>Mode</th>\n",
       "    </tr>\n",
       "  </thead>\n",
       "  <tbody>\n",
       "    <tr>\n",
       "      <th>Action</th>\n",
       "      <td>36</td>\n",
       "      <td>81</td>\n",
       "      <td>58</td>\n",
       "      <td>UA</td>\n",
       "    </tr>\n",
       "    <tr>\n",
       "      <th>Adventure</th>\n",
       "      <td>96</td>\n",
       "      <td>63</td>\n",
       "      <td>30</td>\n",
       "      <td>U</td>\n",
       "    </tr>\n",
       "    <tr>\n",
       "      <th>Animation</th>\n",
       "      <td>66</td>\n",
       "      <td>10</td>\n",
       "      <td>4</td>\n",
       "      <td>U</td>\n",
       "    </tr>\n",
       "    <tr>\n",
       "      <th>Biography</th>\n",
       "      <td>35</td>\n",
       "      <td>33</td>\n",
       "      <td>39</td>\n",
       "      <td>A</td>\n",
       "    </tr>\n",
       "    <tr>\n",
       "      <th>Comedy</th>\n",
       "      <td>89</td>\n",
       "      <td>61</td>\n",
       "      <td>61</td>\n",
       "      <td>U</td>\n",
       "    </tr>\n",
       "    <tr>\n",
       "      <th>Crime</th>\n",
       "      <td>28</td>\n",
       "      <td>39</td>\n",
       "      <td>117</td>\n",
       "      <td>A</td>\n",
       "    </tr>\n",
       "    <tr>\n",
       "      <th>Drama</th>\n",
       "      <td>177</td>\n",
       "      <td>188</td>\n",
       "      <td>278</td>\n",
       "      <td>A</td>\n",
       "    </tr>\n",
       "    <tr>\n",
       "      <th>Family</th>\n",
       "      <td>46</td>\n",
       "      <td>5</td>\n",
       "      <td>2</td>\n",
       "      <td>U</td>\n",
       "    </tr>\n",
       "    <tr>\n",
       "      <th>Fantasy</th>\n",
       "      <td>29</td>\n",
       "      <td>16</td>\n",
       "      <td>16</td>\n",
       "      <td>U</td>\n",
       "    </tr>\n",
       "    <tr>\n",
       "      <th>Film-Noir</th>\n",
       "      <td>3</td>\n",
       "      <td>11</td>\n",
       "      <td>1</td>\n",
       "      <td>UA</td>\n",
       "    </tr>\n",
       "    <tr>\n",
       "      <th>History</th>\n",
       "      <td>19</td>\n",
       "      <td>17</td>\n",
       "      <td>17</td>\n",
       "      <td>U</td>\n",
       "    </tr>\n",
       "    <tr>\n",
       "      <th>Horror</th>\n",
       "      <td>1</td>\n",
       "      <td>7</td>\n",
       "      <td>15</td>\n",
       "      <td>A</td>\n",
       "    </tr>\n",
       "    <tr>\n",
       "      <th>Music</th>\n",
       "      <td>16</td>\n",
       "      <td>14</td>\n",
       "      <td>14</td>\n",
       "      <td>U</td>\n",
       "    </tr>\n",
       "    <tr>\n",
       "      <th>Musical</th>\n",
       "      <td>11</td>\n",
       "      <td>3</td>\n",
       "      <td>2</td>\n",
       "      <td>U</td>\n",
       "    </tr>\n",
       "    <tr>\n",
       "      <th>Mystery</th>\n",
       "      <td>18</td>\n",
       "      <td>24</td>\n",
       "      <td>45</td>\n",
       "      <td>A</td>\n",
       "    </tr>\n",
       "    <tr>\n",
       "      <th>Romance</th>\n",
       "      <td>44</td>\n",
       "      <td>31</td>\n",
       "      <td>38</td>\n",
       "      <td>U</td>\n",
       "    </tr>\n",
       "    <tr>\n",
       "      <th>Sci-Fi</th>\n",
       "      <td>19</td>\n",
       "      <td>29</td>\n",
       "      <td>16</td>\n",
       "      <td>UA</td>\n",
       "    </tr>\n",
       "    <tr>\n",
       "      <th>Sport</th>\n",
       "      <td>8</td>\n",
       "      <td>6</td>\n",
       "      <td>5</td>\n",
       "      <td>U</td>\n",
       "    </tr>\n",
       "    <tr>\n",
       "      <th>Thriller</th>\n",
       "      <td>13</td>\n",
       "      <td>34</td>\n",
       "      <td>70</td>\n",
       "      <td>A</td>\n",
       "    </tr>\n",
       "    <tr>\n",
       "      <th>War</th>\n",
       "      <td>14</td>\n",
       "      <td>9</td>\n",
       "      <td>18</td>\n",
       "      <td>A</td>\n",
       "    </tr>\n",
       "    <tr>\n",
       "      <th>Western</th>\n",
       "      <td>6</td>\n",
       "      <td>6</td>\n",
       "      <td>7</td>\n",
       "      <td>A</td>\n",
       "    </tr>\n",
       "  </tbody>\n",
       "</table>\n",
       "</div>"
      ],
      "text/plain": [
       "             U   UA    A Mode\n",
       "Action      36   81   58   UA\n",
       "Adventure   96   63   30    U\n",
       "Animation   66   10    4    U\n",
       "Biography   35   33   39    A\n",
       "Comedy      89   61   61    U\n",
       "Crime       28   39  117    A\n",
       "Drama      177  188  278    A\n",
       "Family      46    5    2    U\n",
       "Fantasy     29   16   16    U\n",
       "Film-Noir    3   11    1   UA\n",
       "History     19   17   17    U\n",
       "Horror       1    7   15    A\n",
       "Music       16   14   14    U\n",
       "Musical     11    3    2    U\n",
       "Mystery     18   24   45    A\n",
       "Romance     44   31   38    U\n",
       "Sci-Fi      19   29   16   UA\n",
       "Sport        8    6    5    U\n",
       "Thriller    13   34   70    A\n",
       "War         14    9   18    A\n",
       "Western      6    6    7    A"
      ]
     },
     "execution_count": 15,
     "metadata": {},
     "output_type": "execute_result"
    }
   ],
   "source": [
    "genre_freq = pd.DataFrame(index=genres_unique, columns=['U', 'UA', 'A', 'Mode'])\n",
    "for genre in genres_unique:\n",
    "    genre_freq.loc[genre, ['U', 'UA', 'A']] = df.Certificate[df.Genre.map(lambda x: genre in x)].value_counts()[['U', 'UA', 'A']]\n",
    "    genre_freq.loc[genre, ['Mode']] = df.Certificate[df.Genre.str.contains(genre)].mode()[0]\n",
    "genre_freq"
   ]
  },
  {
   "cell_type": "markdown",
   "id": "6b8cbbdf",
   "metadata": {
    "papermill": {
     "duration": 0.017141,
     "end_time": "2022-08-15T10:29:12.849369",
     "exception": false,
     "start_time": "2022-08-15T10:29:12.832228",
     "status": "completed"
    },
    "tags": []
   },
   "source": [
    "We may conclude, that our hypothesis is correct. Now we can proceed to replace missing certificate types based on genre tags. In cases of several differnt tags, we are going to use the most frequently appeared certificate in a sample."
   ]
  },
  {
   "cell_type": "code",
   "execution_count": 16,
   "id": "af6579c2",
   "metadata": {
    "execution": {
     "iopub.execute_input": "2022-08-15T10:29:12.887374Z",
     "iopub.status.busy": "2022-08-15T10:29:12.886087Z",
     "iopub.status.idle": "2022-08-15T10:29:12.905656Z",
     "shell.execute_reply": "2022-08-15T10:29:12.904373Z"
    },
    "papermill": {
     "duration": 0.041419,
     "end_time": "2022-08-15T10:29:12.908321",
     "exception": false,
     "start_time": "2022-08-15T10:29:12.866902",
     "status": "completed"
    },
    "tags": []
   },
   "outputs": [
    {
     "data": {
      "text/plain": [
       "0"
      ]
     },
     "execution_count": 16,
     "metadata": {},
     "output_type": "execute_result"
    }
   ],
   "source": [
    "def cert_by_genre(genres):\n",
    "    genres = list(genres.split(', '))\n",
    "    lst = [genre_freq.loc[genre, 'Mode'] for genre in genres]\n",
    "    return max(set(lst), key=lst.count)\n",
    "\n",
    "df.Certificate[df.Certificate.isnull()] = df.Genre[df.Certificate.isnull()].apply(cert_by_genre)\n",
    "df.Certificate.isnull().sum()"
   ]
  },
  {
   "cell_type": "markdown",
   "id": "4c598b5a",
   "metadata": {
    "papermill": {
     "duration": 0.017588,
     "end_time": "2022-08-15T10:29:12.943662",
     "exception": false,
     "start_time": "2022-08-15T10:29:12.926074",
     "status": "completed"
    },
    "tags": []
   },
   "source": [
    "<b id='section_4'><h3>4. Data analysis and transformation</h3></b>[back to contents](#top)\n",
    "\n",
    "For the ease of visual data inspection we will convert Gross feature to millions and No_of_Votes - to thousands."
   ]
  },
  {
   "cell_type": "code",
   "execution_count": 17,
   "id": "e14ec8e9",
   "metadata": {
    "execution": {
     "iopub.execute_input": "2022-08-15T10:29:12.982174Z",
     "iopub.status.busy": "2022-08-15T10:29:12.980782Z",
     "iopub.status.idle": "2022-08-15T10:29:12.988682Z",
     "shell.execute_reply": "2022-08-15T10:29:12.987778Z"
    },
    "papermill": {
     "duration": 0.030009,
     "end_time": "2022-08-15T10:29:12.991435",
     "exception": false,
     "start_time": "2022-08-15T10:29:12.961426",
     "status": "completed"
    },
    "tags": []
   },
   "outputs": [],
   "source": [
    "df.Gross = df.Gross*10**-6\n",
    "df.No_of_Votes = df.No_of_Votes*10**-3"
   ]
  },
  {
   "cell_type": "markdown",
   "id": "9fdf1bbb",
   "metadata": {
    "papermill": {
     "duration": 0.017531,
     "end_time": "2022-08-15T10:29:13.026676",
     "exception": false,
     "start_time": "2022-08-15T10:29:13.009145",
     "status": "completed"
    },
    "tags": []
   },
   "source": [
    "Further, we convert categorical feature Certificate to numeric"
   ]
  },
  {
   "cell_type": "code",
   "execution_count": 18,
   "id": "f1855a25",
   "metadata": {
    "execution": {
     "iopub.execute_input": "2022-08-15T10:29:13.064955Z",
     "iopub.status.busy": "2022-08-15T10:29:13.064036Z",
     "iopub.status.idle": "2022-08-15T10:29:13.086955Z",
     "shell.execute_reply": "2022-08-15T10:29:13.085446Z"
    },
    "papermill": {
     "duration": 0.045147,
     "end_time": "2022-08-15T10:29:13.089592",
     "exception": false,
     "start_time": "2022-08-15T10:29:13.044445",
     "status": "completed"
    },
    "tags": []
   },
   "outputs": [
    {
     "data": {
      "text/html": [
       "<div>\n",
       "<style scoped>\n",
       "    .dataframe tbody tr th:only-of-type {\n",
       "        vertical-align: middle;\n",
       "    }\n",
       "\n",
       "    .dataframe tbody tr th {\n",
       "        vertical-align: top;\n",
       "    }\n",
       "\n",
       "    .dataframe thead th {\n",
       "        text-align: right;\n",
       "    }\n",
       "</style>\n",
       "<table border=\"1\" class=\"dataframe\">\n",
       "  <thead>\n",
       "    <tr style=\"text-align: right;\">\n",
       "      <th></th>\n",
       "      <th>Released_Year</th>\n",
       "      <th>Certificate</th>\n",
       "      <th>Runtime</th>\n",
       "      <th>Genre</th>\n",
       "      <th>IMDB_Rating</th>\n",
       "      <th>Meta_score</th>\n",
       "      <th>Director</th>\n",
       "      <th>Star1</th>\n",
       "      <th>Star2</th>\n",
       "      <th>Star3</th>\n",
       "      <th>Star4</th>\n",
       "      <th>No_of_Votes</th>\n",
       "      <th>Gross</th>\n",
       "    </tr>\n",
       "  </thead>\n",
       "  <tbody>\n",
       "    <tr>\n",
       "      <th>0</th>\n",
       "      <td>1994</td>\n",
       "      <td>0</td>\n",
       "      <td>142</td>\n",
       "      <td>Drama</td>\n",
       "      <td>9.3</td>\n",
       "      <td>80.0</td>\n",
       "      <td>Frank Darabont</td>\n",
       "      <td>Tim Robbins</td>\n",
       "      <td>Morgan Freeman</td>\n",
       "      <td>Bob Gunton</td>\n",
       "      <td>William Sadler</td>\n",
       "      <td>2343.110</td>\n",
       "      <td>28.341469</td>\n",
       "    </tr>\n",
       "    <tr>\n",
       "      <th>1</th>\n",
       "      <td>1972</td>\n",
       "      <td>0</td>\n",
       "      <td>175</td>\n",
       "      <td>Crime, Drama</td>\n",
       "      <td>9.2</td>\n",
       "      <td>100.0</td>\n",
       "      <td>Francis Ford Coppola</td>\n",
       "      <td>Marlon Brando</td>\n",
       "      <td>Al Pacino</td>\n",
       "      <td>James Caan</td>\n",
       "      <td>Diane Keaton</td>\n",
       "      <td>1620.367</td>\n",
       "      <td>134.966411</td>\n",
       "    </tr>\n",
       "    <tr>\n",
       "      <th>2</th>\n",
       "      <td>2008</td>\n",
       "      <td>1</td>\n",
       "      <td>152</td>\n",
       "      <td>Action, Crime, Drama</td>\n",
       "      <td>9.0</td>\n",
       "      <td>84.0</td>\n",
       "      <td>Christopher Nolan</td>\n",
       "      <td>Christian Bale</td>\n",
       "      <td>Heath Ledger</td>\n",
       "      <td>Aaron Eckhart</td>\n",
       "      <td>Michael Caine</td>\n",
       "      <td>2303.232</td>\n",
       "      <td>534.858444</td>\n",
       "    </tr>\n",
       "    <tr>\n",
       "      <th>3</th>\n",
       "      <td>1974</td>\n",
       "      <td>0</td>\n",
       "      <td>202</td>\n",
       "      <td>Crime, Drama</td>\n",
       "      <td>9.0</td>\n",
       "      <td>90.0</td>\n",
       "      <td>Francis Ford Coppola</td>\n",
       "      <td>Al Pacino</td>\n",
       "      <td>Robert De Niro</td>\n",
       "      <td>Robert Duvall</td>\n",
       "      <td>Diane Keaton</td>\n",
       "      <td>1129.952</td>\n",
       "      <td>57.300000</td>\n",
       "    </tr>\n",
       "    <tr>\n",
       "      <th>4</th>\n",
       "      <td>1957</td>\n",
       "      <td>2</td>\n",
       "      <td>96</td>\n",
       "      <td>Crime, Drama</td>\n",
       "      <td>9.0</td>\n",
       "      <td>96.0</td>\n",
       "      <td>Sidney Lumet</td>\n",
       "      <td>Henry Fonda</td>\n",
       "      <td>Lee J. Cobb</td>\n",
       "      <td>Martin Balsam</td>\n",
       "      <td>John Fiedler</td>\n",
       "      <td>689.845</td>\n",
       "      <td>4.360000</td>\n",
       "    </tr>\n",
       "  </tbody>\n",
       "</table>\n",
       "</div>"
      ],
      "text/plain": [
       "   Released_Year  Certificate  Runtime                 Genre  IMDB_Rating  \\\n",
       "0           1994            0      142                 Drama          9.3   \n",
       "1           1972            0      175          Crime, Drama          9.2   \n",
       "2           2008            1      152  Action, Crime, Drama          9.0   \n",
       "3           1974            0      202          Crime, Drama          9.0   \n",
       "4           1957            2       96          Crime, Drama          9.0   \n",
       "\n",
       "   Meta_score              Director           Star1           Star2  \\\n",
       "0        80.0        Frank Darabont     Tim Robbins  Morgan Freeman   \n",
       "1       100.0  Francis Ford Coppola   Marlon Brando       Al Pacino   \n",
       "2        84.0     Christopher Nolan  Christian Bale    Heath Ledger   \n",
       "3        90.0  Francis Ford Coppola       Al Pacino  Robert De Niro   \n",
       "4        96.0          Sidney Lumet     Henry Fonda     Lee J. Cobb   \n",
       "\n",
       "           Star3           Star4  No_of_Votes       Gross  \n",
       "0     Bob Gunton  William Sadler     2343.110   28.341469  \n",
       "1     James Caan    Diane Keaton     1620.367  134.966411  \n",
       "2  Aaron Eckhart   Michael Caine     2303.232  534.858444  \n",
       "3  Robert Duvall    Diane Keaton     1129.952   57.300000  \n",
       "4  Martin Balsam    John Fiedler      689.845    4.360000  "
      ]
     },
     "execution_count": 18,
     "metadata": {},
     "output_type": "execute_result"
    }
   ],
   "source": [
    "certificate_mapping = {'A': 0, 'UA': 1, 'U': 2}\n",
    "df.Certificate = df.Certificate.map(certificate_mapping).astype('int')\n",
    "df.head()"
   ]
  },
  {
   "cell_type": "markdown",
   "id": "0b556ead",
   "metadata": {
    "papermill": {
     "duration": 0.017731,
     "end_time": "2022-08-15T10:29:13.125319",
     "exception": false,
     "start_time": "2022-08-15T10:29:13.107588",
     "status": "completed"
    },
    "tags": []
   },
   "source": [
    "The Meta_score is the next attribute containing missing values, which we would like to complete. [IMDb](https://www.imdb.com/list/ls051211184/) defines the term \"metascore\" as weighted average of \"movie's reviews of large group of the world's most respected critics\". It is worth noting, that movies get a metascore only if at least four critics' reviews are collected. This means, that some movies might simply have no metascore due to lack of critics' reviews. To fill missing values, we may generate random numbers based on mean and standard deviation of existing Meta_score data, but it will introduce random noize to our analysis. Alternatively, we could do na filling same way we guessed missing Certificates, i.e. relating Meta_score to Genre, but critics' reviews turn out to be unrelated to films' genres."
   ]
  },
  {
   "cell_type": "code",
   "execution_count": 19,
   "id": "667159d3",
   "metadata": {
    "execution": {
     "iopub.execute_input": "2022-08-15T10:29:13.164123Z",
     "iopub.status.busy": "2022-08-15T10:29:13.163244Z",
     "iopub.status.idle": "2022-08-15T10:29:13.716506Z",
     "shell.execute_reply": "2022-08-15T10:29:13.715401Z"
    },
    "papermill": {
     "duration": 0.575665,
     "end_time": "2022-08-15T10:29:13.719084",
     "exception": false,
     "start_time": "2022-08-15T10:29:13.143419",
     "status": "completed"
    },
    "tags": []
   },
   "outputs": [
    {
     "data": {
      "image/png": "[encoded data removed]",
      "text/plain": [
       "<Figure size 432x288 with 1 Axes>"
      ]
     },
     "metadata": {
      "needs_background": "light"
     },
     "output_type": "display_data"
    }
   ],
   "source": [
    "scores_by_genre = {genre: df.Meta_score[df.Genre.str.contains(genre)] for genre in genres_unique}\n",
    "\n",
    "ax = pd.DataFrame.from_dict(scores_by_genre).boxplot(\n",
    "                                                     rot=90, \n",
    "                                                     showmeans=True,\n",
    "                                                     meanprops=dict(marker='x', markeredgecolor='red')\n",
    "                                                     )\n",
    "ax.set_ylabel('Meta score')\n",
    "ax.set_xlabel('Genre');"
   ]
  },
  {
   "cell_type": "markdown",
   "id": "930c82a0",
   "metadata": {
    "papermill": {
     "duration": 0.018076,
     "end_time": "2022-08-15T10:29:13.755835",
     "exception": false,
     "start_time": "2022-08-15T10:29:13.737759",
     "status": "completed"
    },
    "tags": []
   },
   "source": [
    "We may hypothesize, that critics' feedback should reflect, whether a movie is worth to watch for an average spectator. In turn, availability of critics' scores would be related to number of viewers and generated revenue. Contrary, it is observed, that Meta_score is correlated neither with Gross feature nor with No_of_Votes. Further, we are going to create a new attribute IsScored."
   ]
  },
  {
   "cell_type": "code",
   "execution_count": 20,
   "id": "f559347a",
   "metadata": {
    "execution": {
     "iopub.execute_input": "2022-08-15T10:29:13.795116Z",
     "iopub.status.busy": "2022-08-15T10:29:13.794291Z",
     "iopub.status.idle": "2022-08-15T10:29:13.804451Z",
     "shell.execute_reply": "2022-08-15T10:29:13.802801Z"
    },
    "papermill": {
     "duration": 0.03324,
     "end_time": "2022-08-15T10:29:13.807326",
     "exception": false,
     "start_time": "2022-08-15T10:29:13.774086",
     "status": "completed"
    },
    "tags": []
   },
   "outputs": [
    {
     "name": "stdout",
     "output_type": "stream",
     "text": [
      "-0.030587043334493573\n",
      "-0.018506971505862183\n"
     ]
    }
   ],
   "source": [
    "print(df.Meta_score.corr(df.Gross))\n",
    "print(df.Meta_score.corr(df.No_of_Votes))"
   ]
  },
  {
   "cell_type": "code",
   "execution_count": 21,
   "id": "1b588883",
   "metadata": {
    "execution": {
     "iopub.execute_input": "2022-08-15T10:29:13.847824Z",
     "iopub.status.busy": "2022-08-15T10:29:13.846851Z",
     "iopub.status.idle": "2022-08-15T10:29:14.196091Z",
     "shell.execute_reply": "2022-08-15T10:29:14.195169Z"
    },
    "papermill": {
     "duration": 0.372321,
     "end_time": "2022-08-15T10:29:14.198381",
     "exception": false,
     "start_time": "2022-08-15T10:29:13.826060",
     "status": "completed"
    },
    "tags": []
   },
   "outputs": [
    {
     "data": {
      "text/html": [
       "<div>\n",
       "<style scoped>\n",
       "    .dataframe tbody tr th:only-of-type {\n",
       "        vertical-align: middle;\n",
       "    }\n",
       "\n",
       "    .dataframe tbody tr th {\n",
       "        vertical-align: top;\n",
       "    }\n",
       "\n",
       "    .dataframe thead tr th {\n",
       "        text-align: left;\n",
       "    }\n",
       "</style>\n",
       "<table border=\"1\" class=\"dataframe\">\n",
       "  <thead>\n",
       "    <tr>\n",
       "      <th></th>\n",
       "      <th colspan=\"8\" halign=\"left\">No_of_Votes</th>\n",
       "    </tr>\n",
       "    <tr>\n",
       "      <th></th>\n",
       "      <th>count</th>\n",
       "      <th>mean</th>\n",
       "      <th>std</th>\n",
       "      <th>min</th>\n",
       "      <th>25%</th>\n",
       "      <th>50%</th>\n",
       "      <th>75%</th>\n",
       "      <th>max</th>\n",
       "    </tr>\n",
       "  </thead>\n",
       "  <tbody>\n",
       "    <tr>\n",
       "      <th>0</th>\n",
       "      <td>157.0</td>\n",
       "      <td>61.631554</td>\n",
       "      <td>45.477755</td>\n",
       "      <td>25.088</td>\n",
       "      <td>33.3540</td>\n",
       "      <td>46.700</td>\n",
       "      <td>67.927</td>\n",
       "      <td>311.365</td>\n",
       "    </tr>\n",
       "    <tr>\n",
       "      <th>1</th>\n",
       "      <td>843.0</td>\n",
       "      <td>313.187138</td>\n",
       "      <td>341.798846</td>\n",
       "      <td>25.198</td>\n",
       "      <td>71.0235</td>\n",
       "      <td>184.966</td>\n",
       "      <td>439.631</td>\n",
       "      <td>2343.110</td>\n",
       "    </tr>\n",
       "  </tbody>\n",
       "</table>\n",
       "</div>"
      ],
      "text/plain": [
       "  No_of_Votes                                                             \\\n",
       "        count        mean         std     min      25%      50%      75%   \n",
       "0       157.0   61.631554   45.477755  25.088  33.3540   46.700   67.927   \n",
       "1       843.0  313.187138  341.798846  25.198  71.0235  184.966  439.631   \n",
       "\n",
       "             \n",
       "        max  \n",
       "0   311.365  \n",
       "1  2343.110  "
      ]
     },
     "execution_count": 21,
     "metadata": {},
     "output_type": "execute_result"
    },
    {
     "data": {
      "image/png": "[encoded data removed]",
      "text/plain": [
       "<Figure size 720x360 with 2 Axes>"
      ]
     },
     "metadata": {
      "needs_background": "light"
     },
     "output_type": "display_data"
    }
   ],
   "source": [
    "df['IsScored'] = df.Meta_score.notnull()\n",
    "\n",
    "fig, ax = plt.subplots(1,2, figsize=(10,5), sharex=True)\n",
    "fig.suptitle('')\n",
    "\n",
    "sns.boxplot(data=df, ax=ax[0], x='IsScored', y='Gross')\n",
    "ax[0].set_xlabel('Scored?')\n",
    "ax[0].set_ylabel('Gross revenue')\n",
    "\n",
    "sns.boxplot(data=df, ax=ax[1], x='IsScored', y='No_of_Votes')\n",
    "ax[1].set_xlabel('Scored?')\n",
    "ax[1].set_ylabel('Number of votes')\n",
    "\n",
    "# df.No_of_Votes[df.Meta_score.notnull()].describe()\n",
    "df[['IsScored', 'No_of_Votes']].groupby('IsScored', as_index=False).describe()"
   ]
  },
  {
   "cell_type": "markdown",
   "id": "a8d631b9",
   "metadata": {
    "papermill": {
     "duration": 0.018774,
     "end_time": "2022-08-15T10:29:14.236432",
     "exception": false,
     "start_time": "2022-08-15T10:29:14.217658",
     "status": "completed"
    },
    "tags": []
   },
   "source": [
    "From plots above, we may see, that movies without critics' reviews are more likely to have less audience attention, and, thus, generate less revenues, and/or other way round: movies with low views and poor budget returns are less likely to attract globally recognized critics."
   ]
  },
  {
   "cell_type": "code",
   "execution_count": 22,
   "id": "8f5800a8",
   "metadata": {
    "execution": {
     "iopub.execute_input": "2022-08-15T10:29:14.277833Z",
     "iopub.status.busy": "2022-08-15T10:29:14.276852Z",
     "iopub.status.idle": "2022-08-15T10:29:15.003574Z",
     "shell.execute_reply": "2022-08-15T10:29:15.001909Z"
    },
    "papermill": {
     "duration": 0.750675,
     "end_time": "2022-08-15T10:29:15.006644",
     "exception": false,
     "start_time": "2022-08-15T10:29:14.255969",
     "status": "completed"
    },
    "tags": []
   },
   "outputs": [
    {
     "name": "stdout",
     "output_type": "stream",
     "text": [
      "0.1919033943726487\n",
      "0.27968705447593156\n"
     ]
    },
    {
     "data": {
      "text/html": [
       "<div>\n",
       "<style scoped>\n",
       "    .dataframe tbody tr th:only-of-type {\n",
       "        vertical-align: middle;\n",
       "    }\n",
       "\n",
       "    .dataframe tbody tr th {\n",
       "        vertical-align: top;\n",
       "    }\n",
       "\n",
       "    .dataframe thead th {\n",
       "        text-align: right;\n",
       "    }\n",
       "</style>\n",
       "<table border=\"1\" class=\"dataframe\">\n",
       "  <thead>\n",
       "    <tr style=\"text-align: right;\">\n",
       "      <th></th>\n",
       "      <th>IsScored</th>\n",
       "      <th>Gross</th>\n",
       "    </tr>\n",
       "  </thead>\n",
       "  <tbody>\n",
       "    <tr>\n",
       "      <th>0</th>\n",
       "      <td>False</td>\n",
       "      <td>3.985506</td>\n",
       "    </tr>\n",
       "    <tr>\n",
       "      <th>1</th>\n",
       "      <td>True</td>\n",
       "      <td>74.952069</td>\n",
       "    </tr>\n",
       "  </tbody>\n",
       "</table>\n",
       "</div>"
      ],
      "text/plain": [
       "   IsScored      Gross\n",
       "0     False   3.985506\n",
       "1      True  74.952069"
      ]
     },
     "execution_count": 22,
     "metadata": {},
     "output_type": "execute_result"
    },
    {
     "data": {
      "image/png": "[encoded data removed]",
      "text/plain": [
       "<Figure size 421.25x360 with 1 Axes>"
      ]
     },
     "metadata": {
      "needs_background": "light"
     },
     "output_type": "display_data"
    }
   ],
   "source": [
    "ax = sns.lmplot(data=df, x='No_of_Votes', y='Gross', hue='IsScored', scatter_kws={'alpha':0.3}, hue_order=[True,False])\n",
    "ax.set(xlabel='Number of votes', ylabel='Gross revenue')\n",
    "\n",
    "print(df.IsScored.corr(df.Gross))\n",
    "print(df.IsScored.corr(df.No_of_Votes))\n",
    "df[['Gross', 'IsScored']].groupby('IsScored', as_index=False).mean()"
   ]
  },
  {
   "cell_type": "markdown",
   "id": "354a5cca",
   "metadata": {
    "papermill": {
     "duration": 0.019786,
     "end_time": "2022-08-15T10:29:15.046748",
     "exception": false,
     "start_time": "2022-08-15T10:29:15.026962",
     "status": "completed"
    },
    "tags": []
   },
   "source": [
    "We may now remove Meta_score from dataset in favor of IsScored"
   ]
  },
  {
   "cell_type": "code",
   "execution_count": 23,
   "id": "a7be5e8c",
   "metadata": {
    "execution": {
     "iopub.execute_input": "2022-08-15T10:29:15.091384Z",
     "iopub.status.busy": "2022-08-15T10:29:15.090827Z",
     "iopub.status.idle": "2022-08-15T10:29:15.113663Z",
     "shell.execute_reply": "2022-08-15T10:29:15.112345Z"
    },
    "papermill": {
     "duration": 0.047798,
     "end_time": "2022-08-15T10:29:15.116185",
     "exception": false,
     "start_time": "2022-08-15T10:29:15.068387",
     "status": "completed"
    },
    "tags": []
   },
   "outputs": [
    {
     "data": {
      "text/html": [
       "<div>\n",
       "<style scoped>\n",
       "    .dataframe tbody tr th:only-of-type {\n",
       "        vertical-align: middle;\n",
       "    }\n",
       "\n",
       "    .dataframe tbody tr th {\n",
       "        vertical-align: top;\n",
       "    }\n",
       "\n",
       "    .dataframe thead th {\n",
       "        text-align: right;\n",
       "    }\n",
       "</style>\n",
       "<table border=\"1\" class=\"dataframe\">\n",
       "  <thead>\n",
       "    <tr style=\"text-align: right;\">\n",
       "      <th></th>\n",
       "      <th>Released_Year</th>\n",
       "      <th>Certificate</th>\n",
       "      <th>Runtime</th>\n",
       "      <th>Genre</th>\n",
       "      <th>IMDB_Rating</th>\n",
       "      <th>Director</th>\n",
       "      <th>Star1</th>\n",
       "      <th>Star2</th>\n",
       "      <th>Star3</th>\n",
       "      <th>Star4</th>\n",
       "      <th>No_of_Votes</th>\n",
       "      <th>Gross</th>\n",
       "      <th>IsScored</th>\n",
       "    </tr>\n",
       "  </thead>\n",
       "  <tbody>\n",
       "    <tr>\n",
       "      <th>0</th>\n",
       "      <td>1994</td>\n",
       "      <td>0</td>\n",
       "      <td>142</td>\n",
       "      <td>Drama</td>\n",
       "      <td>9.3</td>\n",
       "      <td>Frank Darabont</td>\n",
       "      <td>Tim Robbins</td>\n",
       "      <td>Morgan Freeman</td>\n",
       "      <td>Bob Gunton</td>\n",
       "      <td>William Sadler</td>\n",
       "      <td>2343.110</td>\n",
       "      <td>28.341469</td>\n",
       "      <td>True</td>\n",
       "    </tr>\n",
       "    <tr>\n",
       "      <th>1</th>\n",
       "      <td>1972</td>\n",
       "      <td>0</td>\n",
       "      <td>175</td>\n",
       "      <td>Crime, Drama</td>\n",
       "      <td>9.2</td>\n",
       "      <td>Francis Ford Coppola</td>\n",
       "      <td>Marlon Brando</td>\n",
       "      <td>Al Pacino</td>\n",
       "      <td>James Caan</td>\n",
       "      <td>Diane Keaton</td>\n",
       "      <td>1620.367</td>\n",
       "      <td>134.966411</td>\n",
       "      <td>True</td>\n",
       "    </tr>\n",
       "    <tr>\n",
       "      <th>2</th>\n",
       "      <td>2008</td>\n",
       "      <td>1</td>\n",
       "      <td>152</td>\n",
       "      <td>Action, Crime, Drama</td>\n",
       "      <td>9.0</td>\n",
       "      <td>Christopher Nolan</td>\n",
       "      <td>Christian Bale</td>\n",
       "      <td>Heath Ledger</td>\n",
       "      <td>Aaron Eckhart</td>\n",
       "      <td>Michael Caine</td>\n",
       "      <td>2303.232</td>\n",
       "      <td>534.858444</td>\n",
       "      <td>True</td>\n",
       "    </tr>\n",
       "    <tr>\n",
       "      <th>3</th>\n",
       "      <td>1974</td>\n",
       "      <td>0</td>\n",
       "      <td>202</td>\n",
       "      <td>Crime, Drama</td>\n",
       "      <td>9.0</td>\n",
       "      <td>Francis Ford Coppola</td>\n",
       "      <td>Al Pacino</td>\n",
       "      <td>Robert De Niro</td>\n",
       "      <td>Robert Duvall</td>\n",
       "      <td>Diane Keaton</td>\n",
       "      <td>1129.952</td>\n",
       "      <td>57.300000</td>\n",
       "      <td>True</td>\n",
       "    </tr>\n",
       "    <tr>\n",
       "      <th>4</th>\n",
       "      <td>1957</td>\n",
       "      <td>2</td>\n",
       "      <td>96</td>\n",
       "      <td>Crime, Drama</td>\n",
       "      <td>9.0</td>\n",
       "      <td>Sidney Lumet</td>\n",
       "      <td>Henry Fonda</td>\n",
       "      <td>Lee J. Cobb</td>\n",
       "      <td>Martin Balsam</td>\n",
       "      <td>John Fiedler</td>\n",
       "      <td>689.845</td>\n",
       "      <td>4.360000</td>\n",
       "      <td>True</td>\n",
       "    </tr>\n",
       "  </tbody>\n",
       "</table>\n",
       "</div>"
      ],
      "text/plain": [
       "   Released_Year  Certificate  Runtime                 Genre  IMDB_Rating  \\\n",
       "0           1994            0      142                 Drama          9.3   \n",
       "1           1972            0      175          Crime, Drama          9.2   \n",
       "2           2008            1      152  Action, Crime, Drama          9.0   \n",
       "3           1974            0      202          Crime, Drama          9.0   \n",
       "4           1957            2       96          Crime, Drama          9.0   \n",
       "\n",
       "               Director           Star1           Star2          Star3  \\\n",
       "0        Frank Darabont     Tim Robbins  Morgan Freeman     Bob Gunton   \n",
       "1  Francis Ford Coppola   Marlon Brando       Al Pacino     James Caan   \n",
       "2     Christopher Nolan  Christian Bale    Heath Ledger  Aaron Eckhart   \n",
       "3  Francis Ford Coppola       Al Pacino  Robert De Niro  Robert Duvall   \n",
       "4          Sidney Lumet     Henry Fonda     Lee J. Cobb  Martin Balsam   \n",
       "\n",
       "            Star4  No_of_Votes       Gross  IsScored  \n",
       "0  William Sadler     2343.110   28.341469      True  \n",
       "1    Diane Keaton     1620.367  134.966411      True  \n",
       "2   Michael Caine     2303.232  534.858444      True  \n",
       "3    Diane Keaton     1129.952   57.300000      True  \n",
       "4    John Fiedler      689.845    4.360000      True  "
      ]
     },
     "execution_count": 23,
     "metadata": {},
     "output_type": "execute_result"
    }
   ],
   "source": [
    "df.drop(['Meta_score'], axis=1, inplace=True)\n",
    "df.head()"
   ]
  },
  {
   "cell_type": "markdown",
   "id": "392b3e1d",
   "metadata": {
    "papermill": {
     "duration": 0.020264,
     "end_time": "2022-08-15T10:29:15.158330",
     "exception": false,
     "start_time": "2022-08-15T10:29:15.138066",
     "status": "completed"
    },
    "tags": []
   },
   "source": [
    "There are four features related to actors cast: Star1, Star2, Star3 and Star4. In the following we are going to combine these into new attribute. It is worth noting, that [IMDb](https://help.imdb.com/article/contribution/filmography-credits/how-are-cast-credits-ordered-why-don-t-the-main-stars-appear-at-the-top-of-the-cast/G39K5N4YYV2QJ4GR?ref_=helpsect_pro_3_4#) reproduces cast lists in the same order they appeared in a movies' end titles. This means, that names are not arranged by the popularity of particular actor, but rather credited, for instance, in order of appearance in a series, or in alphabetical order. To engeneer an attribute, we are going to use the following logic: the higher the class cast of actors composing a starring group, more likely a movie will attract large audience and generate large revenues. The first instance of an actor appearance in the dataset is set to be 0. It will increment by 1 each subsequent appearance in chronological order, if any. The Act_aprnc feature, thus, reflects the sum of appearances of all four actors by series.\n",
    "\n",
    "First, we create a list of unique actors that are met in columns Star1 through to Star4."
   ]
  },
  {
   "cell_type": "code",
   "execution_count": 24,
   "id": "7150dda6",
   "metadata": {
    "execution": {
     "iopub.execute_input": "2022-08-15T10:29:15.201960Z",
     "iopub.status.busy": "2022-08-15T10:29:15.201396Z",
     "iopub.status.idle": "2022-08-15T10:29:15.216137Z",
     "shell.execute_reply": "2022-08-15T10:29:15.214841Z"
    },
    "papermill": {
     "duration": 0.039644,
     "end_time": "2022-08-15T10:29:15.218762",
     "exception": false,
     "start_time": "2022-08-15T10:29:15.179118",
     "status": "completed"
    },
    "tags": []
   },
   "outputs": [
    {
     "data": {
      "text/plain": [
       "array(['Aamir Bashir', 'Aamir Khan', 'Aaron Eckhart', ...,\n",
       "       'Éric Toledano', 'Ömer Faruk Sorak', 'Özge Özberk'], dtype='<U27')"
      ]
     },
     "execution_count": 24,
     "metadata": {},
     "output_type": "execute_result"
    }
   ],
   "source": [
    "actors = []\n",
    "cols = ['Star1', 'Star2', 'Star3', 'Star4']\n",
    "for col in cols:\n",
    "    actors.append(df[col].unique())\n",
    "actors = np.unique([item for sublist in actors for item in sublist])\n",
    "actors"
   ]
  },
  {
   "cell_type": "markdown",
   "id": "df4bda50",
   "metadata": {
    "papermill": {
     "duration": 0.020329,
     "end_time": "2022-08-15T10:29:15.259680",
     "exception": false,
     "start_time": "2022-08-15T10:29:15.239351",
     "status": "completed"
    },
    "tags": []
   },
   "source": [
    "Then, we estimate appearances for every actor, considering the year of series release, and sum them up. We may drop features Star1, Star2, Star3 and Star4, thereafter."
   ]
  },
  {
   "cell_type": "code",
   "execution_count": 25,
   "id": "4baf9b36",
   "metadata": {
    "execution": {
     "iopub.execute_input": "2022-08-15T10:29:15.303537Z",
     "iopub.status.busy": "2022-08-15T10:29:15.303020Z",
     "iopub.status.idle": "2022-08-15T10:29:53.034515Z",
     "shell.execute_reply": "2022-08-15T10:29:53.033610Z"
    },
    "papermill": {
     "duration": 37.776201,
     "end_time": "2022-08-15T10:29:53.056752",
     "exception": false,
     "start_time": "2022-08-15T10:29:15.280551",
     "status": "completed"
    },
    "tags": []
   },
   "outputs": [
    {
     "data": {
      "image/png": "[encoded data removed]",
      "text/plain": [
       "<Figure size 432x288 with 1 Axes>"
      ]
     },
     "metadata": {
      "needs_background": "light"
     },
     "output_type": "display_data"
    }
   ],
   "source": [
    "df['Act_aprnc'] = 0\n",
    "for actor in actors:\n",
    "    dummy = df[['Star1', 'Star2', 'Star3', 'Star4']] == actor\n",
    "    index = dummy[dummy.apply(lambda x: any(x), axis=1)].index.values\n",
    "    index = df.loc[index].sort_values('Released_Year').index.values\n",
    "    aprnc = range(len(index))\n",
    "    df.loc[index, 'Act_aprnc'] = df.loc[index, 'Act_aprnc'] + aprnc\n",
    "\n",
    "df.drop(['Star1', 'Star2', 'Star3', 'Star4'], axis=1, inplace=True)\n",
    "df[['Gross', 'Act_aprnc']].groupby('Act_aprnc').mean().sort_values(by='Gross').plot.bar(legend=False);"
   ]
  },
  {
   "cell_type": "markdown",
   "id": "9603f1b0",
   "metadata": {
    "papermill": {
     "duration": 0.020414,
     "end_time": "2022-08-15T10:29:53.099382",
     "exception": false,
     "start_time": "2022-08-15T10:29:53.078968",
     "status": "completed"
    },
    "tags": []
   },
   "source": [
    "We are going to create appearance bands and check the correlation with Gross."
   ]
  },
  {
   "cell_type": "code",
   "execution_count": 26,
   "id": "5f2c757b",
   "metadata": {
    "execution": {
     "iopub.execute_input": "2022-08-15T10:29:53.144081Z",
     "iopub.status.busy": "2022-08-15T10:29:53.143214Z",
     "iopub.status.idle": "2022-08-15T10:29:53.410918Z",
     "shell.execute_reply": "2022-08-15T10:29:53.409575Z"
    },
    "papermill": {
     "duration": 0.293123,
     "end_time": "2022-08-15T10:29:53.413556",
     "exception": false,
     "start_time": "2022-08-15T10:29:53.120433",
     "status": "completed"
    },
    "tags": []
   },
   "outputs": [
    {
     "data": {
      "text/html": [
       "<div>\n",
       "<style scoped>\n",
       "    .dataframe tbody tr th:only-of-type {\n",
       "        vertical-align: middle;\n",
       "    }\n",
       "\n",
       "    .dataframe tbody tr th {\n",
       "        vertical-align: top;\n",
       "    }\n",
       "\n",
       "    .dataframe thead tr th {\n",
       "        text-align: left;\n",
       "    }\n",
       "\n",
       "    .dataframe thead tr:last-of-type th {\n",
       "        text-align: right;\n",
       "    }\n",
       "</style>\n",
       "<table border=\"1\" class=\"dataframe\">\n",
       "  <thead>\n",
       "    <tr>\n",
       "      <th></th>\n",
       "      <th colspan=\"8\" halign=\"left\">Gross</th>\n",
       "    </tr>\n",
       "    <tr>\n",
       "      <th></th>\n",
       "      <th>count</th>\n",
       "      <th>mean</th>\n",
       "      <th>std</th>\n",
       "      <th>min</th>\n",
       "      <th>25%</th>\n",
       "      <th>50%</th>\n",
       "      <th>75%</th>\n",
       "      <th>max</th>\n",
       "    </tr>\n",
       "    <tr>\n",
       "      <th>Aprnc_bins</th>\n",
       "      <th></th>\n",
       "      <th></th>\n",
       "      <th></th>\n",
       "      <th></th>\n",
       "      <th></th>\n",
       "      <th></th>\n",
       "      <th></th>\n",
       "      <th></th>\n",
       "    </tr>\n",
       "  </thead>\n",
       "  <tbody>\n",
       "    <tr>\n",
       "      <th>No-name</th>\n",
       "      <td>620.0</td>\n",
       "      <td>52.508041</td>\n",
       "      <td>94.808030</td>\n",
       "      <td>0.001305</td>\n",
       "      <td>1.892096</td>\n",
       "      <td>12.190750</td>\n",
       "      <td>57.163567</td>\n",
       "      <td>936.662225</td>\n",
       "    </tr>\n",
       "    <tr>\n",
       "      <th>Stand-out</th>\n",
       "      <td>127.0</td>\n",
       "      <td>94.551609</td>\n",
       "      <td>116.798944</td>\n",
       "      <td>0.085433</td>\n",
       "      <td>20.007773</td>\n",
       "      <td>46.889293</td>\n",
       "      <td>134.049215</td>\n",
       "      <td>659.325379</td>\n",
       "    </tr>\n",
       "    <tr>\n",
       "      <th>Crowd-favorite</th>\n",
       "      <td>51.0</td>\n",
       "      <td>107.107886</td>\n",
       "      <td>93.870478</td>\n",
       "      <td>0.349555</td>\n",
       "      <td>23.191447</td>\n",
       "      <td>77.911774</td>\n",
       "      <td>168.051046</td>\n",
       "      <td>309.125409</td>\n",
       "    </tr>\n",
       "    <tr>\n",
       "      <th>Well-known</th>\n",
       "      <td>33.0</td>\n",
       "      <td>197.313210</td>\n",
       "      <td>209.602179</td>\n",
       "      <td>7.000000</td>\n",
       "      <td>56.671993</td>\n",
       "      <td>107.100855</td>\n",
       "      <td>335.451311</td>\n",
       "      <td>858.373000</td>\n",
       "    </tr>\n",
       "  </tbody>\n",
       "</table>\n",
       "</div>"
      ],
      "text/plain": [
       "                Gross                                               \\\n",
       "                count        mean         std       min        25%   \n",
       "Aprnc_bins                                                           \n",
       "No-name         620.0   52.508041   94.808030  0.001305   1.892096   \n",
       "Stand-out       127.0   94.551609  116.798944  0.085433  20.007773   \n",
       "Crowd-favorite   51.0  107.107886   93.870478  0.349555  23.191447   \n",
       "Well-known       33.0  197.313210  209.602179  7.000000  56.671993   \n",
       "\n",
       "                                                    \n",
       "                       50%         75%         max  \n",
       "Aprnc_bins                                          \n",
       "No-name          12.190750   57.163567  936.662225  \n",
       "Stand-out        46.889293  134.049215  659.325379  \n",
       "Crowd-favorite   77.911774  168.051046  309.125409  \n",
       "Well-known      107.100855  335.451311  858.373000  "
      ]
     },
     "execution_count": 26,
     "metadata": {},
     "output_type": "execute_result"
    },
    {
     "data": {
      "image/png": "[encoded data removed]",
      "text/plain": [
       "<Figure size 432x288 with 1 Axes>"
      ]
     },
     "metadata": {
      "needs_background": "light"
     },
     "output_type": "display_data"
    }
   ],
   "source": [
    "df['Aprnc_bins'] = pd.cut(df.Act_aprnc, \n",
    "                          [0,4,8,12,df.Act_aprnc.max()+1], \n",
    "                          labels=['No-name', 'Stand-out', 'Crowd-favorite', 'Well-known'],\n",
    "                          include_lowest=True)\n",
    "\n",
    "sns.boxplot(data=df, x='Aprnc_bins', y='Gross')\n",
    "df[['Gross', 'Aprnc_bins']].groupby('Aprnc_bins').describe()"
   ]
  },
  {
   "cell_type": "markdown",
   "id": "f16cec8d",
   "metadata": {
    "papermill": {
     "duration": 0.021571,
     "end_time": "2022-08-15T10:29:53.457145",
     "exception": false,
     "start_time": "2022-08-15T10:29:53.435574",
     "status": "completed"
    },
    "tags": []
   },
   "source": [
    "We may conclude, that films with unknown actors tend to gather less cash, than those engaging cinema celebrities. Finally, we are going to create cast class ordinal feature based on appearance bands and remove Act_aprnc and Aprnc_bins from the dataset."
   ]
  },
  {
   "cell_type": "code",
   "execution_count": 27,
   "id": "943bd373",
   "metadata": {
    "execution": {
     "iopub.execute_input": "2022-08-15T10:29:53.502734Z",
     "iopub.status.busy": "2022-08-15T10:29:53.501855Z",
     "iopub.status.idle": "2022-08-15T10:29:53.526154Z",
     "shell.execute_reply": "2022-08-15T10:29:53.524837Z"
    },
    "papermill": {
     "duration": 0.050107,
     "end_time": "2022-08-15T10:29:53.528863",
     "exception": false,
     "start_time": "2022-08-15T10:29:53.478756",
     "status": "completed"
    },
    "tags": []
   },
   "outputs": [
    {
     "data": {
      "text/html": [
       "<div>\n",
       "<style scoped>\n",
       "    .dataframe tbody tr th:only-of-type {\n",
       "        vertical-align: middle;\n",
       "    }\n",
       "\n",
       "    .dataframe tbody tr th {\n",
       "        vertical-align: top;\n",
       "    }\n",
       "\n",
       "    .dataframe thead th {\n",
       "        text-align: right;\n",
       "    }\n",
       "</style>\n",
       "<table border=\"1\" class=\"dataframe\">\n",
       "  <thead>\n",
       "    <tr style=\"text-align: right;\">\n",
       "      <th></th>\n",
       "      <th>Released_Year</th>\n",
       "      <th>Certificate</th>\n",
       "      <th>Runtime</th>\n",
       "      <th>Genre</th>\n",
       "      <th>IMDB_Rating</th>\n",
       "      <th>Director</th>\n",
       "      <th>No_of_Votes</th>\n",
       "      <th>Gross</th>\n",
       "      <th>IsScored</th>\n",
       "      <th>Cast_class</th>\n",
       "    </tr>\n",
       "  </thead>\n",
       "  <tbody>\n",
       "    <tr>\n",
       "      <th>0</th>\n",
       "      <td>1994</td>\n",
       "      <td>0</td>\n",
       "      <td>142</td>\n",
       "      <td>Drama</td>\n",
       "      <td>9.3</td>\n",
       "      <td>Frank Darabont</td>\n",
       "      <td>2343.110</td>\n",
       "      <td>28.341469</td>\n",
       "      <td>True</td>\n",
       "      <td>0</td>\n",
       "    </tr>\n",
       "    <tr>\n",
       "      <th>1</th>\n",
       "      <td>1972</td>\n",
       "      <td>0</td>\n",
       "      <td>175</td>\n",
       "      <td>Crime, Drama</td>\n",
       "      <td>9.2</td>\n",
       "      <td>Francis Ford Coppola</td>\n",
       "      <td>1620.367</td>\n",
       "      <td>134.966411</td>\n",
       "      <td>True</td>\n",
       "      <td>0</td>\n",
       "    </tr>\n",
       "    <tr>\n",
       "      <th>2</th>\n",
       "      <td>2008</td>\n",
       "      <td>1</td>\n",
       "      <td>152</td>\n",
       "      <td>Action, Crime, Drama</td>\n",
       "      <td>9.0</td>\n",
       "      <td>Christopher Nolan</td>\n",
       "      <td>2303.232</td>\n",
       "      <td>534.858444</td>\n",
       "      <td>True</td>\n",
       "      <td>3</td>\n",
       "    </tr>\n",
       "    <tr>\n",
       "      <th>3</th>\n",
       "      <td>1974</td>\n",
       "      <td>0</td>\n",
       "      <td>202</td>\n",
       "      <td>Crime, Drama</td>\n",
       "      <td>9.0</td>\n",
       "      <td>Francis Ford Coppola</td>\n",
       "      <td>1129.952</td>\n",
       "      <td>57.300000</td>\n",
       "      <td>True</td>\n",
       "      <td>0</td>\n",
       "    </tr>\n",
       "    <tr>\n",
       "      <th>4</th>\n",
       "      <td>1957</td>\n",
       "      <td>2</td>\n",
       "      <td>96</td>\n",
       "      <td>Crime, Drama</td>\n",
       "      <td>9.0</td>\n",
       "      <td>Sidney Lumet</td>\n",
       "      <td>689.845</td>\n",
       "      <td>4.360000</td>\n",
       "      <td>True</td>\n",
       "      <td>0</td>\n",
       "    </tr>\n",
       "  </tbody>\n",
       "</table>\n",
       "</div>"
      ],
      "text/plain": [
       "   Released_Year  Certificate  Runtime                 Genre  IMDB_Rating  \\\n",
       "0           1994            0      142                 Drama          9.3   \n",
       "1           1972            0      175          Crime, Drama          9.2   \n",
       "2           2008            1      152  Action, Crime, Drama          9.0   \n",
       "3           1974            0      202          Crime, Drama          9.0   \n",
       "4           1957            2       96          Crime, Drama          9.0   \n",
       "\n",
       "               Director  No_of_Votes       Gross  IsScored  Cast_class  \n",
       "0        Frank Darabont     2343.110   28.341469      True           0  \n",
       "1  Francis Ford Coppola     1620.367  134.966411      True           0  \n",
       "2     Christopher Nolan     2303.232  534.858444      True           3  \n",
       "3  Francis Ford Coppola     1129.952   57.300000      True           0  \n",
       "4          Sidney Lumet      689.845    4.360000      True           0  "
      ]
     },
     "execution_count": 27,
     "metadata": {},
     "output_type": "execute_result"
    }
   ],
   "source": [
    "cast_class_mapping = {'No-name': 0, 'Stand-out': 1, 'Crowd-favorite': 2, 'Well-known': 3}\n",
    "df['Cast_class'] = df.Aprnc_bins.map(cast_class_mapping).astype('int')\n",
    "df.drop(['Act_aprnc', 'Aprnc_bins'], axis=1, inplace=True)\n",
    "df.head()"
   ]
  },
  {
   "cell_type": "markdown",
   "id": "d47bdad8",
   "metadata": {
    "papermill": {
     "duration": 0.021446,
     "end_time": "2022-08-15T10:29:53.571798",
     "exception": false,
     "start_time": "2022-08-15T10:29:53.550352",
     "status": "completed"
    },
    "tags": []
   },
   "source": [
    "Further, we are going to do the same procedure with Director atrribute."
   ]
  },
  {
   "cell_type": "code",
   "execution_count": 28,
   "id": "8ee102c4",
   "metadata": {
    "execution": {
     "iopub.execute_input": "2022-08-15T10:29:53.617585Z",
     "iopub.status.busy": "2022-08-15T10:29:53.616172Z",
     "iopub.status.idle": "2022-08-15T10:29:54.400908Z",
     "shell.execute_reply": "2022-08-15T10:29:54.399603Z"
    },
    "papermill": {
     "duration": 0.810868,
     "end_time": "2022-08-15T10:29:54.404176",
     "exception": false,
     "start_time": "2022-08-15T10:29:53.593308",
     "status": "completed"
    },
    "tags": []
   },
   "outputs": [],
   "source": [
    "df['Dir_aprnc'] = 0\n",
    "for director in df.Director.unique():\n",
    "    index = df[df.Director == director].sort_values('Released_Year').index.values\n",
    "    aprnc = range(len(index))\n",
    "    df.loc[index, 'Dir_aprnc'] = aprnc\n",
    "    \n",
    "# df[['Gross', 'Dir_aprnc']].groupby('Dir_aprnc').mean().sort_values(by='Gross').plot.bar(legend=False)"
   ]
  },
  {
   "cell_type": "code",
   "execution_count": 29,
   "id": "e88bf26f",
   "metadata": {
    "execution": {
     "iopub.execute_input": "2022-08-15T10:29:54.449878Z",
     "iopub.status.busy": "2022-08-15T10:29:54.449358Z",
     "iopub.status.idle": "2022-08-15T10:29:54.707754Z",
     "shell.execute_reply": "2022-08-15T10:29:54.706861Z"
    },
    "papermill": {
     "duration": 0.284667,
     "end_time": "2022-08-15T10:29:54.710254",
     "exception": false,
     "start_time": "2022-08-15T10:29:54.425587",
     "status": "completed"
    },
    "tags": []
   },
   "outputs": [
    {
     "data": {
      "text/html": [
       "<div>\n",
       "<style scoped>\n",
       "    .dataframe tbody tr th:only-of-type {\n",
       "        vertical-align: middle;\n",
       "    }\n",
       "\n",
       "    .dataframe tbody tr th {\n",
       "        vertical-align: top;\n",
       "    }\n",
       "\n",
       "    .dataframe thead tr th {\n",
       "        text-align: left;\n",
       "    }\n",
       "\n",
       "    .dataframe thead tr:last-of-type th {\n",
       "        text-align: right;\n",
       "    }\n",
       "</style>\n",
       "<table border=\"1\" class=\"dataframe\">\n",
       "  <thead>\n",
       "    <tr>\n",
       "      <th></th>\n",
       "      <th colspan=\"8\" halign=\"left\">Gross</th>\n",
       "    </tr>\n",
       "    <tr>\n",
       "      <th></th>\n",
       "      <th>count</th>\n",
       "      <th>mean</th>\n",
       "      <th>std</th>\n",
       "      <th>min</th>\n",
       "      <th>25%</th>\n",
       "      <th>50%</th>\n",
       "      <th>75%</th>\n",
       "      <th>max</th>\n",
       "    </tr>\n",
       "    <tr>\n",
       "      <th>Aprnc_bins</th>\n",
       "      <th></th>\n",
       "      <th></th>\n",
       "      <th></th>\n",
       "      <th></th>\n",
       "      <th></th>\n",
       "      <th></th>\n",
       "      <th></th>\n",
       "      <th></th>\n",
       "    </tr>\n",
       "  </thead>\n",
       "  <tbody>\n",
       "    <tr>\n",
       "      <th>No-name</th>\n",
       "      <td>611.0</td>\n",
       "      <td>59.122159</td>\n",
       "      <td>90.809236</td>\n",
       "      <td>0.001305</td>\n",
       "      <td>2.459154</td>\n",
       "      <td>18.340051</td>\n",
       "      <td>74.193723</td>\n",
       "      <td>623.279547</td>\n",
       "    </tr>\n",
       "    <tr>\n",
       "      <th>Experienced</th>\n",
       "      <td>88.0</td>\n",
       "      <td>86.498356</td>\n",
       "      <td>144.676374</td>\n",
       "      <td>0.085433</td>\n",
       "      <td>4.360000</td>\n",
       "      <td>41.281556</td>\n",
       "      <td>87.285945</td>\n",
       "      <td>936.662225</td>\n",
       "    </tr>\n",
       "    <tr>\n",
       "      <th>Blossom</th>\n",
       "      <td>45.0</td>\n",
       "      <td>120.788095</td>\n",
       "      <td>199.041885</td>\n",
       "      <td>0.019181</td>\n",
       "      <td>3.969893</td>\n",
       "      <td>33.080084</td>\n",
       "      <td>117.624028</td>\n",
       "      <td>858.373000</td>\n",
       "    </tr>\n",
       "    <tr>\n",
       "      <th>Brand</th>\n",
       "      <td>87.0</td>\n",
       "      <td>84.665736</td>\n",
       "      <td>116.894460</td>\n",
       "      <td>0.012562</td>\n",
       "      <td>10.259930</td>\n",
       "      <td>42.438300</td>\n",
       "      <td>127.761130</td>\n",
       "      <td>760.507625</td>\n",
       "    </tr>\n",
       "  </tbody>\n",
       "</table>\n",
       "</div>"
      ],
      "text/plain": [
       "             Gross                                                          \\\n",
       "             count        mean         std       min        25%        50%   \n",
       "Aprnc_bins                                                                   \n",
       "No-name      611.0   59.122159   90.809236  0.001305   2.459154  18.340051   \n",
       "Experienced   88.0   86.498356  144.676374  0.085433   4.360000  41.281556   \n",
       "Blossom       45.0  120.788095  199.041885  0.019181   3.969893  33.080084   \n",
       "Brand         87.0   84.665736  116.894460  0.012562  10.259930  42.438300   \n",
       "\n",
       "                                     \n",
       "                    75%         max  \n",
       "Aprnc_bins                           \n",
       "No-name       74.193723  623.279547  \n",
       "Experienced   87.285945  936.662225  \n",
       "Blossom      117.624028  858.373000  \n",
       "Brand        127.761130  760.507625  "
      ]
     },
     "execution_count": 29,
     "metadata": {},
     "output_type": "execute_result"
    },
    {
     "data": {
      "image/png": "[encoded data removed]",
      "text/plain": [
       "<Figure size 432x288 with 1 Axes>"
      ]
     },
     "metadata": {
      "needs_background": "light"
     },
     "output_type": "display_data"
    }
   ],
   "source": [
    "df['Aprnc_bins'] = pd.cut(df.Dir_aprnc, \n",
    "                          [0,1,2,3,df.Dir_aprnc.max()+1],\n",
    "                          labels=['No-name', 'Experienced', 'Blossom', 'Brand'],\n",
    "                          include_lowest=True)\n",
    "\n",
    "sns.boxplot(data=df, x='Aprnc_bins', y='Gross')\n",
    "df[['Gross', 'Aprnc_bins']].groupby('Aprnc_bins').describe()"
   ]
  },
  {
   "cell_type": "code",
   "execution_count": 30,
   "id": "e2a1cfc3",
   "metadata": {
    "execution": {
     "iopub.execute_input": "2022-08-15T10:29:54.757335Z",
     "iopub.status.busy": "2022-08-15T10:29:54.756608Z",
     "iopub.status.idle": "2022-08-15T10:29:54.777009Z",
     "shell.execute_reply": "2022-08-15T10:29:54.776088Z"
    },
    "papermill": {
     "duration": 0.046642,
     "end_time": "2022-08-15T10:29:54.779492",
     "exception": false,
     "start_time": "2022-08-15T10:29:54.732850",
     "status": "completed"
    },
    "tags": []
   },
   "outputs": [
    {
     "data": {
      "text/html": [
       "<div>\n",
       "<style scoped>\n",
       "    .dataframe tbody tr th:only-of-type {\n",
       "        vertical-align: middle;\n",
       "    }\n",
       "\n",
       "    .dataframe tbody tr th {\n",
       "        vertical-align: top;\n",
       "    }\n",
       "\n",
       "    .dataframe thead th {\n",
       "        text-align: right;\n",
       "    }\n",
       "</style>\n",
       "<table border=\"1\" class=\"dataframe\">\n",
       "  <thead>\n",
       "    <tr style=\"text-align: right;\">\n",
       "      <th></th>\n",
       "      <th>Released_Year</th>\n",
       "      <th>Certificate</th>\n",
       "      <th>Runtime</th>\n",
       "      <th>Genre</th>\n",
       "      <th>IMDB_Rating</th>\n",
       "      <th>No_of_Votes</th>\n",
       "      <th>Gross</th>\n",
       "      <th>IsScored</th>\n",
       "      <th>Cast_class</th>\n",
       "      <th>Dir_class</th>\n",
       "    </tr>\n",
       "  </thead>\n",
       "  <tbody>\n",
       "    <tr>\n",
       "      <th>0</th>\n",
       "      <td>1994</td>\n",
       "      <td>0</td>\n",
       "      <td>142</td>\n",
       "      <td>Drama</td>\n",
       "      <td>9.3</td>\n",
       "      <td>2343.110</td>\n",
       "      <td>28.341469</td>\n",
       "      <td>True</td>\n",
       "      <td>0</td>\n",
       "      <td>0</td>\n",
       "    </tr>\n",
       "    <tr>\n",
       "      <th>1</th>\n",
       "      <td>1972</td>\n",
       "      <td>0</td>\n",
       "      <td>175</td>\n",
       "      <td>Crime, Drama</td>\n",
       "      <td>9.2</td>\n",
       "      <td>1620.367</td>\n",
       "      <td>134.966411</td>\n",
       "      <td>True</td>\n",
       "      <td>0</td>\n",
       "      <td>0</td>\n",
       "    </tr>\n",
       "    <tr>\n",
       "      <th>2</th>\n",
       "      <td>2008</td>\n",
       "      <td>1</td>\n",
       "      <td>152</td>\n",
       "      <td>Action, Crime, Drama</td>\n",
       "      <td>9.0</td>\n",
       "      <td>2303.232</td>\n",
       "      <td>534.858444</td>\n",
       "      <td>True</td>\n",
       "      <td>3</td>\n",
       "      <td>2</td>\n",
       "    </tr>\n",
       "    <tr>\n",
       "      <th>3</th>\n",
       "      <td>1974</td>\n",
       "      <td>0</td>\n",
       "      <td>202</td>\n",
       "      <td>Crime, Drama</td>\n",
       "      <td>9.0</td>\n",
       "      <td>1129.952</td>\n",
       "      <td>57.300000</td>\n",
       "      <td>True</td>\n",
       "      <td>0</td>\n",
       "      <td>0</td>\n",
       "    </tr>\n",
       "    <tr>\n",
       "      <th>4</th>\n",
       "      <td>1957</td>\n",
       "      <td>2</td>\n",
       "      <td>96</td>\n",
       "      <td>Crime, Drama</td>\n",
       "      <td>9.0</td>\n",
       "      <td>689.845</td>\n",
       "      <td>4.360000</td>\n",
       "      <td>True</td>\n",
       "      <td>0</td>\n",
       "      <td>0</td>\n",
       "    </tr>\n",
       "  </tbody>\n",
       "</table>\n",
       "</div>"
      ],
      "text/plain": [
       "   Released_Year  Certificate  Runtime                 Genre  IMDB_Rating  \\\n",
       "0           1994            0      142                 Drama          9.3   \n",
       "1           1972            0      175          Crime, Drama          9.2   \n",
       "2           2008            1      152  Action, Crime, Drama          9.0   \n",
       "3           1974            0      202          Crime, Drama          9.0   \n",
       "4           1957            2       96          Crime, Drama          9.0   \n",
       "\n",
       "   No_of_Votes       Gross  IsScored  Cast_class  Dir_class  \n",
       "0     2343.110   28.341469      True           0          0  \n",
       "1     1620.367  134.966411      True           0          0  \n",
       "2     2303.232  534.858444      True           3          2  \n",
       "3     1129.952   57.300000      True           0          0  \n",
       "4      689.845    4.360000      True           0          0  "
      ]
     },
     "execution_count": 30,
     "metadata": {},
     "output_type": "execute_result"
    }
   ],
   "source": [
    "dir_class_mapping = {'No-name': 0, 'Experienced': 1, 'Blossom': 2, 'Brand': 3}\n",
    "df['Dir_class'] = df.Aprnc_bins.map(dir_class_mapping).astype('int')\n",
    "df.drop(['Director', 'Dir_aprnc', 'Aprnc_bins'], axis=1, inplace=True)\n",
    "df.head()"
   ]
  },
  {
   "cell_type": "markdown",
   "id": "0f34bc22",
   "metadata": {
    "papermill": {
     "duration": 0.021575,
     "end_time": "2022-08-15T10:29:54.823278",
     "exception": false,
     "start_time": "2022-08-15T10:29:54.801703",
     "status": "completed"
    },
    "tags": []
   },
   "source": [
    "As mentioned above, the Genre attribute contains genre tags. Moreover, some series have only one tag, while others - two or three. We are going to create Comb feature and determine its correlation with Gross."
   ]
  },
  {
   "cell_type": "code",
   "execution_count": 31,
   "id": "89d97950",
   "metadata": {
    "execution": {
     "iopub.execute_input": "2022-08-15T10:29:54.869870Z",
     "iopub.status.busy": "2022-08-15T10:29:54.869118Z",
     "iopub.status.idle": "2022-08-15T10:29:55.087432Z",
     "shell.execute_reply": "2022-08-15T10:29:55.086233Z"
    },
    "papermill": {
     "duration": 0.244856,
     "end_time": "2022-08-15T10:29:55.090170",
     "exception": false,
     "start_time": "2022-08-15T10:29:54.845314",
     "status": "completed"
    },
    "tags": []
   },
   "outputs": [
    {
     "data": {
      "text/html": [
       "<div>\n",
       "<style scoped>\n",
       "    .dataframe tbody tr th:only-of-type {\n",
       "        vertical-align: middle;\n",
       "    }\n",
       "\n",
       "    .dataframe tbody tr th {\n",
       "        vertical-align: top;\n",
       "    }\n",
       "\n",
       "    .dataframe thead th {\n",
       "        text-align: right;\n",
       "    }\n",
       "</style>\n",
       "<table border=\"1\" class=\"dataframe\">\n",
       "  <thead>\n",
       "    <tr style=\"text-align: right;\">\n",
       "      <th></th>\n",
       "      <th>Comb</th>\n",
       "      <th>Gross</th>\n",
       "    </tr>\n",
       "  </thead>\n",
       "  <tbody>\n",
       "    <tr>\n",
       "      <th>0</th>\n",
       "      <td>1</td>\n",
       "      <td>31.076118</td>\n",
       "    </tr>\n",
       "    <tr>\n",
       "      <th>1</th>\n",
       "      <td>2</td>\n",
       "      <td>57.368658</td>\n",
       "    </tr>\n",
       "    <tr>\n",
       "      <th>2</th>\n",
       "      <td>3</td>\n",
       "      <td>78.330493</td>\n",
       "    </tr>\n",
       "  </tbody>\n",
       "</table>\n",
       "</div>"
      ],
      "text/plain": [
       "   Comb      Gross\n",
       "0     1  31.076118\n",
       "1     2  57.368658\n",
       "2     3  78.330493"
      ]
     },
     "execution_count": 31,
     "metadata": {},
     "output_type": "execute_result"
    },
    {
     "data": {
      "image/png": "[encoded data removed]",
      "text/plain": [
       "<Figure size 432x288 with 1 Axes>"
      ]
     },
     "metadata": {
      "needs_background": "light"
     },
     "output_type": "display_data"
    }
   ],
   "source": [
    "df['Comb'] = df.Genre.apply(lambda x: len(x.split(', ')))\n",
    "\n",
    "sns.boxplot(data=df, x='Comb', y='Gross');\n",
    "df[['Gross', 'Comb']].groupby('Comb', as_index=False).mean()"
   ]
  },
  {
   "cell_type": "markdown",
   "id": "36a383ba",
   "metadata": {
    "papermill": {
     "duration": 0.022563,
     "end_time": "2022-08-15T10:29:55.135379",
     "exception": false,
     "start_time": "2022-08-15T10:29:55.112816",
     "status": "completed"
    },
    "tags": []
   },
   "source": [
    "As there are different combinations of genres, it is obvious, that some may match each other naturally, while others are mutually exclusive. First, we are going to define correlations between different genres, based on their occurances in the dataset."
   ]
  },
  {
   "cell_type": "code",
   "execution_count": 32,
   "id": "cf257db7",
   "metadata": {
    "execution": {
     "iopub.execute_input": "2022-08-15T10:29:55.181814Z",
     "iopub.status.busy": "2022-08-15T10:29:55.181327Z",
     "iopub.status.idle": "2022-08-15T10:29:56.846107Z",
     "shell.execute_reply": "2022-08-15T10:29:56.844808Z"
    },
    "papermill": {
     "duration": 1.692349,
     "end_time": "2022-08-15T10:29:56.850037",
     "exception": false,
     "start_time": "2022-08-15T10:29:55.157688",
     "status": "completed"
    },
    "tags": []
   },
   "outputs": [
    {
     "data": {
      "image/png": "[encoded data removed]",
      "text/plain": [
       "<Figure size 1080x1080 with 2 Axes>"
      ]
     },
     "metadata": {
      "needs_background": "light"
     },
     "output_type": "display_data"
    }
   ],
   "source": [
    "df['dummy'] = 1\n",
    "genres_matrix = {genre: df.dummy[df.Genre.str.contains(genre)] for genre in genres_unique}\n",
    "genres_matrix = pd.DataFrame.from_dict(genres_matrix).fillna(0).astype('int')\n",
    "genres_matrix = genres_matrix.corr()\n",
    "\n",
    "mask = np.array(genres_matrix)\n",
    "mask[np.tril_indices_from(mask)] = False\n",
    "\n",
    "fig = plt.figure(figsize=(15, 15))\n",
    "sns.heatmap(round(genres_matrix,2), mask=mask, vmin=-1, vmax=1, annot=True, cmap='coolwarm');"
   ]
  },
  {
   "cell_type": "markdown",
   "id": "4acd3838",
   "metadata": {
    "papermill": {
     "duration": 0.023848,
     "end_time": "2022-08-15T10:29:56.898654",
     "exception": false,
     "start_time": "2022-08-15T10:29:56.874806",
     "status": "completed"
    },
    "tags": []
   },
   "source": [
    "Further, we create Genre_weights through intermediate feature Genre_comb and conversion function. The function w takes a list of values from Genre_comb and calculates resulting \"weight\" of genres, looking into correlation matrix table."
   ]
  },
  {
   "cell_type": "code",
   "execution_count": 33,
   "id": "e7321a60",
   "metadata": {
    "execution": {
     "iopub.execute_input": "2022-08-15T10:29:56.950323Z",
     "iopub.status.busy": "2022-08-15T10:29:56.949496Z",
     "iopub.status.idle": "2022-08-15T10:29:57.053915Z",
     "shell.execute_reply": "2022-08-15T10:29:57.052651Z"
    },
    "papermill": {
     "duration": 0.132999,
     "end_time": "2022-08-15T10:29:57.056571",
     "exception": false,
     "start_time": "2022-08-15T10:29:56.923572",
     "status": "completed"
    },
    "tags": []
   },
   "outputs": [
    {
     "data": {
      "text/html": [
       "<div>\n",
       "<style scoped>\n",
       "    .dataframe tbody tr th:only-of-type {\n",
       "        vertical-align: middle;\n",
       "    }\n",
       "\n",
       "    .dataframe tbody tr th {\n",
       "        vertical-align: top;\n",
       "    }\n",
       "\n",
       "    .dataframe thead th {\n",
       "        text-align: right;\n",
       "    }\n",
       "</style>\n",
       "<table border=\"1\" class=\"dataframe\">\n",
       "  <thead>\n",
       "    <tr style=\"text-align: right;\">\n",
       "      <th></th>\n",
       "      <th>Comb</th>\n",
       "      <th>Genre_weights</th>\n",
       "    </tr>\n",
       "  </thead>\n",
       "  <tbody>\n",
       "    <tr>\n",
       "      <th>2</th>\n",
       "      <td>3</td>\n",
       "      <td>0.040218</td>\n",
       "    </tr>\n",
       "    <tr>\n",
       "      <th>1</th>\n",
       "      <td>2</td>\n",
       "      <td>-0.005019</td>\n",
       "    </tr>\n",
       "    <tr>\n",
       "      <th>0</th>\n",
       "      <td>1</td>\n",
       "      <td>-0.068165</td>\n",
       "    </tr>\n",
       "  </tbody>\n",
       "</table>\n",
       "</div>"
      ],
      "text/plain": [
       "   Comb  Genre_weights\n",
       "2     3       0.040218\n",
       "1     2      -0.005019\n",
       "0     1      -0.068165"
      ]
     },
     "execution_count": 33,
     "metadata": {},
     "output_type": "execute_result"
    }
   ],
   "source": [
    "df['Genre_comb'] = df.Genre.apply(lambda x: x.split(', ') + [0]*(3-len(x.split(', '))))\n",
    "\n",
    "def w(lst=[]):\n",
    "    x, y, z = lst[0:3]\n",
    "    if (y,z) == (0,0):\n",
    "        return genres_matrix[x].drop(x).mean()\n",
    "    if isinstance(y, str) and z == 0:\n",
    "        return genres_matrix.loc[x,y]\n",
    "    \n",
    "    xy = genres_matrix.loc[x,y]\n",
    "    xz = genres_matrix.loc[x,z]\n",
    "    yz = genres_matrix.loc[y,z]\n",
    "\n",
    "    return (xy + xz + yz)\n",
    "\n",
    "df['Genre_weights'] = df.Genre_comb.apply(lambda x: w(x))\n",
    "\n",
    "df[['Comb', 'Genre_weights']].groupby('Comb', as_index=False).mean().sort_values(by='Comb', ascending=False)"
   ]
  },
  {
   "cell_type": "markdown",
   "id": "d73be40b",
   "metadata": {
    "papermill": {
     "duration": 0.023906,
     "end_time": "2022-08-15T10:29:57.104906",
     "exception": false,
     "start_time": "2022-08-15T10:29:57.081000",
     "status": "completed"
    },
    "tags": []
   },
   "source": [
    "Further, we can band Genre_weights."
   ]
  },
  {
   "cell_type": "code",
   "execution_count": 34,
   "id": "4a8eef19",
   "metadata": {
    "execution": {
     "iopub.execute_input": "2022-08-15T10:29:57.157950Z",
     "iopub.status.busy": "2022-08-15T10:29:57.156569Z",
     "iopub.status.idle": "2022-08-15T10:29:57.379624Z",
     "shell.execute_reply": "2022-08-15T10:29:57.378404Z"
    },
    "papermill": {
     "duration": 0.253113,
     "end_time": "2022-08-15T10:29:57.382427",
     "exception": false,
     "start_time": "2022-08-15T10:29:57.129314",
     "status": "completed"
    },
    "tags": []
   },
   "outputs": [
    {
     "data": {
      "text/html": [
       "<div>\n",
       "<style scoped>\n",
       "    .dataframe tbody tr th:only-of-type {\n",
       "        vertical-align: middle;\n",
       "    }\n",
       "\n",
       "    .dataframe tbody tr th {\n",
       "        vertical-align: top;\n",
       "    }\n",
       "\n",
       "    .dataframe thead th {\n",
       "        text-align: right;\n",
       "    }\n",
       "</style>\n",
       "<table border=\"1\" class=\"dataframe\">\n",
       "  <thead>\n",
       "    <tr style=\"text-align: right;\">\n",
       "      <th></th>\n",
       "      <th>Genre_bins</th>\n",
       "      <th>Gross</th>\n",
       "    </tr>\n",
       "  </thead>\n",
       "  <tbody>\n",
       "    <tr>\n",
       "      <th>2</th>\n",
       "      <td>Harmonic</td>\n",
       "      <td>156.166612</td>\n",
       "    </tr>\n",
       "    <tr>\n",
       "      <th>1</th>\n",
       "      <td>Match</td>\n",
       "      <td>59.841081</td>\n",
       "    </tr>\n",
       "    <tr>\n",
       "      <th>0</th>\n",
       "      <td>Mismatch</td>\n",
       "      <td>47.192248</td>\n",
       "    </tr>\n",
       "  </tbody>\n",
       "</table>\n",
       "</div>"
      ],
      "text/plain": [
       "  Genre_bins       Gross\n",
       "2   Harmonic  156.166612\n",
       "1      Match   59.841081\n",
       "0   Mismatch   47.192248"
      ]
     },
     "execution_count": 34,
     "metadata": {},
     "output_type": "execute_result"
    },
    {
     "data": {
      "image/png": "[encoded data removed]",
      "text/plain": [
       "<Figure size 432x288 with 1 Axes>"
      ]
     },
     "metadata": {
      "needs_background": "light"
     },
     "output_type": "display_data"
    }
   ],
   "source": [
    "df['Genre_bins'] = pd.cut(df.Genre_weights, [-1,0,0.3,1], labels=['Mismatch', 'Match', 'Harmonic'])\n",
    "\n",
    "sns.boxplot(data=df, x='Genre_bins', y='Gross')\n",
    "df[['Gross', 'Genre_bins']].groupby('Genre_bins', as_index=False).mean().sort_values(by='Gross', ascending=False)"
   ]
  },
  {
   "cell_type": "markdown",
   "id": "912c3af1",
   "metadata": {
    "papermill": {
     "duration": 0.024542,
     "end_time": "2022-08-15T10:29:57.431735",
     "exception": false,
     "start_time": "2022-08-15T10:29:57.407193",
     "status": "completed"
    },
    "tags": []
   },
   "source": [
    "Finally we replace Genre with ordinals, based on genre bands, and remove intermediately created attributes."
   ]
  },
  {
   "cell_type": "code",
   "execution_count": 35,
   "id": "cb031e22",
   "metadata": {
    "execution": {
     "iopub.execute_input": "2022-08-15T10:29:57.483907Z",
     "iopub.status.busy": "2022-08-15T10:29:57.483345Z",
     "iopub.status.idle": "2022-08-15T10:29:57.506125Z",
     "shell.execute_reply": "2022-08-15T10:29:57.504825Z"
    },
    "papermill": {
     "duration": 0.052512,
     "end_time": "2022-08-15T10:29:57.509065",
     "exception": false,
     "start_time": "2022-08-15T10:29:57.456553",
     "status": "completed"
    },
    "tags": []
   },
   "outputs": [
    {
     "data": {
      "text/html": [
       "<div>\n",
       "<style scoped>\n",
       "    .dataframe tbody tr th:only-of-type {\n",
       "        vertical-align: middle;\n",
       "    }\n",
       "\n",
       "    .dataframe tbody tr th {\n",
       "        vertical-align: top;\n",
       "    }\n",
       "\n",
       "    .dataframe thead th {\n",
       "        text-align: right;\n",
       "    }\n",
       "</style>\n",
       "<table border=\"1\" class=\"dataframe\">\n",
       "  <thead>\n",
       "    <tr style=\"text-align: right;\">\n",
       "      <th></th>\n",
       "      <th>Released_Year</th>\n",
       "      <th>Certificate</th>\n",
       "      <th>Runtime</th>\n",
       "      <th>Genre</th>\n",
       "      <th>IMDB_Rating</th>\n",
       "      <th>No_of_Votes</th>\n",
       "      <th>Gross</th>\n",
       "      <th>IsScored</th>\n",
       "      <th>Cast_class</th>\n",
       "      <th>Dir_class</th>\n",
       "    </tr>\n",
       "  </thead>\n",
       "  <tbody>\n",
       "    <tr>\n",
       "      <th>0</th>\n",
       "      <td>1994</td>\n",
       "      <td>0</td>\n",
       "      <td>142</td>\n",
       "      <td>0</td>\n",
       "      <td>9.3</td>\n",
       "      <td>2343.110</td>\n",
       "      <td>28.341469</td>\n",
       "      <td>True</td>\n",
       "      <td>0</td>\n",
       "      <td>0</td>\n",
       "    </tr>\n",
       "    <tr>\n",
       "      <th>1</th>\n",
       "      <td>1972</td>\n",
       "      <td>0</td>\n",
       "      <td>175</td>\n",
       "      <td>1</td>\n",
       "      <td>9.2</td>\n",
       "      <td>1620.367</td>\n",
       "      <td>134.966411</td>\n",
       "      <td>True</td>\n",
       "      <td>0</td>\n",
       "      <td>0</td>\n",
       "    </tr>\n",
       "    <tr>\n",
       "      <th>2</th>\n",
       "      <td>2008</td>\n",
       "      <td>1</td>\n",
       "      <td>152</td>\n",
       "      <td>0</td>\n",
       "      <td>9.0</td>\n",
       "      <td>2303.232</td>\n",
       "      <td>534.858444</td>\n",
       "      <td>True</td>\n",
       "      <td>3</td>\n",
       "      <td>2</td>\n",
       "    </tr>\n",
       "    <tr>\n",
       "      <th>3</th>\n",
       "      <td>1974</td>\n",
       "      <td>0</td>\n",
       "      <td>202</td>\n",
       "      <td>1</td>\n",
       "      <td>9.0</td>\n",
       "      <td>1129.952</td>\n",
       "      <td>57.300000</td>\n",
       "      <td>True</td>\n",
       "      <td>0</td>\n",
       "      <td>0</td>\n",
       "    </tr>\n",
       "    <tr>\n",
       "      <th>4</th>\n",
       "      <td>1957</td>\n",
       "      <td>2</td>\n",
       "      <td>96</td>\n",
       "      <td>1</td>\n",
       "      <td>9.0</td>\n",
       "      <td>689.845</td>\n",
       "      <td>4.360000</td>\n",
       "      <td>True</td>\n",
       "      <td>0</td>\n",
       "      <td>0</td>\n",
       "    </tr>\n",
       "  </tbody>\n",
       "</table>\n",
       "</div>"
      ],
      "text/plain": [
       "   Released_Year  Certificate  Runtime  Genre  IMDB_Rating  No_of_Votes  \\\n",
       "0           1994            0      142      0          9.3     2343.110   \n",
       "1           1972            0      175      1          9.2     1620.367   \n",
       "2           2008            1      152      0          9.0     2303.232   \n",
       "3           1974            0      202      1          9.0     1129.952   \n",
       "4           1957            2       96      1          9.0      689.845   \n",
       "\n",
       "        Gross  IsScored  Cast_class  Dir_class  \n",
       "0   28.341469      True           0          0  \n",
       "1  134.966411      True           0          0  \n",
       "2  534.858444      True           3          2  \n",
       "3   57.300000      True           0          0  \n",
       "4    4.360000      True           0          0  "
      ]
     },
     "execution_count": 35,
     "metadata": {},
     "output_type": "execute_result"
    }
   ],
   "source": [
    "weight_mapping = {'Mismatch': 0, 'Match': 1, 'Harmonic': 2}\n",
    "df.Genre = df.Genre_bins.map(weight_mapping).astype('int')\n",
    "\n",
    "df.drop(['Comb', 'dummy', 'Genre_comb', 'Genre_weights', 'Genre_bins'], axis=1, inplace=True)\n",
    "df.head()"
   ]
  },
  {
   "cell_type": "markdown",
   "id": "4674ada7",
   "metadata": {
    "papermill": {
     "duration": 0.024732,
     "end_time": "2022-08-15T10:29:57.559416",
     "exception": false,
     "start_time": "2022-08-15T10:29:57.534684",
     "status": "completed"
    },
    "tags": []
   },
   "source": [
    "We also drop rows with missing information about gross revenues."
   ]
  },
  {
   "cell_type": "code",
   "execution_count": 36,
   "id": "5bb5a303",
   "metadata": {
    "execution": {
     "iopub.execute_input": "2022-08-15T10:29:57.612779Z",
     "iopub.status.busy": "2022-08-15T10:29:57.611846Z",
     "iopub.status.idle": "2022-08-15T10:29:57.629090Z",
     "shell.execute_reply": "2022-08-15T10:29:57.627821Z"
    },
    "papermill": {
     "duration": 0.047704,
     "end_time": "2022-08-15T10:29:57.632368",
     "exception": false,
     "start_time": "2022-08-15T10:29:57.584664",
     "status": "completed"
    },
    "tags": []
   },
   "outputs": [
    {
     "name": "stdout",
     "output_type": "stream",
     "text": [
      "<class 'pandas.core.frame.DataFrame'>\n",
      "Int64Index: 831 entries, 0 to 997\n",
      "Data columns (total 10 columns):\n",
      " #   Column         Non-Null Count  Dtype  \n",
      "---  ------         --------------  -----  \n",
      " 0   Released_Year  831 non-null    int64  \n",
      " 1   Certificate    831 non-null    int64  \n",
      " 2   Runtime        831 non-null    int64  \n",
      " 3   Genre          831 non-null    int64  \n",
      " 4   IMDB_Rating    831 non-null    float64\n",
      " 5   No_of_Votes    831 non-null    float64\n",
      " 6   Gross          831 non-null    float64\n",
      " 7   IsScored       831 non-null    bool   \n",
      " 8   Cast_class     831 non-null    int64  \n",
      " 9   Dir_class      831 non-null    int64  \n",
      "dtypes: bool(1), float64(3), int64(6)\n",
      "memory usage: 65.7 KB\n"
     ]
    }
   ],
   "source": [
    "df.dropna(axis=0, inplace=True)\n",
    "df.info()"
   ]
  },
  {
   "cell_type": "markdown",
   "id": "07d90009",
   "metadata": {
    "papermill": {
     "duration": 0.029045,
     "end_time": "2022-08-15T10:29:57.686848",
     "exception": false,
     "start_time": "2022-08-15T10:29:57.657803",
     "status": "completed"
    },
    "tags": []
   },
   "source": [
    "<b id='section_5'><h3>5. Model and predict</h3></b>[back to contents](#top)\n",
    "\n",
    "In this chapter we are going to train a model and predict gross revenue. Since the Gross feature is continuous variable, models selection points on those, capable to perform a regression task. We are going to use random decision forests to identify relationship between the output and attributes we constructed above."
   ]
  },
  {
   "cell_type": "code",
   "execution_count": 37,
   "id": "f50fc2ab",
   "metadata": {
    "execution": {
     "iopub.execute_input": "2022-08-15T10:29:57.740218Z",
     "iopub.status.busy": "2022-08-15T10:29:57.739358Z",
     "iopub.status.idle": "2022-08-15T10:29:57.747640Z",
     "shell.execute_reply": "2022-08-15T10:29:57.746507Z"
    },
    "papermill": {
     "duration": 0.038011,
     "end_time": "2022-08-15T10:29:57.750203",
     "exception": false,
     "start_time": "2022-08-15T10:29:57.712192",
     "status": "completed"
    },
    "tags": []
   },
   "outputs": [],
   "source": [
    "X = df.drop(['Gross'], axis=1)\n",
    "Y = df.Gross\n",
    "\n",
    "X_train, X_test, Y_train, Y_true = train_test_split(X, Y, test_size=0.2)"
   ]
  },
  {
   "cell_type": "code",
   "execution_count": 38,
   "id": "96c87e73",
   "metadata": {
    "execution": {
     "iopub.execute_input": "2022-08-15T10:29:57.803242Z",
     "iopub.status.busy": "2022-08-15T10:29:57.802334Z",
     "iopub.status.idle": "2022-08-15T10:29:58.174464Z",
     "shell.execute_reply": "2022-08-15T10:29:58.173106Z"
    },
    "papermill": {
     "duration": 0.402551,
     "end_time": "2022-08-15T10:29:58.177991",
     "exception": false,
     "start_time": "2022-08-15T10:29:57.775440",
     "status": "completed"
    },
    "tags": []
   },
   "outputs": [
    {
     "name": "stdout",
     "output_type": "stream",
     "text": [
      "Mean Absolute Error: 38.1\n",
      "Mean Squared Error: 6606.2\n",
      "R-squared: 0.56\n",
      "Train score:  94.47%\n",
      "Test score:  55.89%\n"
     ]
    }
   ],
   "source": [
    "model = RandomForestRegressor(n_estimators=100)\n",
    "model.fit(X_train, Y_train)\n",
    "Y_pred = model.predict(X_test)\n",
    "\n",
    "mae = mean_absolute_error(Y_true.values.ravel(), Y_pred)\n",
    "mse = mean_squared_error(Y_true.values.ravel(), Y_pred)\n",
    "r2 = r2_score(Y_true.values.ravel(), Y_pred)\n",
    "\n",
    "# Print metrics\n",
    "print('Mean Absolute Error:', round(mae, 2))\n",
    "print('Mean Squared Error:', round(mse, 2))\n",
    "print('R-squared:', round(r2, 2))\n",
    "print('Train score: ', format(model.score(X_train, Y_train),'.2%'))\n",
    "print('Test score: ', format(model.score(X_test, Y_true.values.ravel()),'.2%'))"
   ]
  },
  {
   "cell_type": "code",
   "execution_count": 39,
   "id": "7982f4ee",
   "metadata": {
    "execution": {
     "iopub.execute_input": "2022-08-15T10:29:58.233940Z",
     "iopub.status.busy": "2022-08-15T10:29:58.232589Z",
     "iopub.status.idle": "2022-08-15T10:29:58.251704Z",
     "shell.execute_reply": "2022-08-15T10:29:58.250077Z"
    },
    "papermill": {
     "duration": 0.050756,
     "end_time": "2022-08-15T10:29:58.254664",
     "exception": false,
     "start_time": "2022-08-15T10:29:58.203908",
     "status": "completed"
    },
    "tags": []
   },
   "outputs": [],
   "source": [
    "features = X.columns.values\n",
    "importances = model.feature_importances_\n",
    "indices = importances.argsort()\n",
    "\n",
    "features_dict={}\n",
    "for i in indices:\n",
    "    features_dict[features[i]] = importances[indices][i]"
   ]
  },
  {
   "cell_type": "code",
   "execution_count": 40,
   "id": "26c287a9",
   "metadata": {
    "execution": {
     "iopub.execute_input": "2022-08-15T10:29:58.307693Z",
     "iopub.status.busy": "2022-08-15T10:29:58.306842Z",
     "iopub.status.idle": "2022-08-15T10:29:58.807412Z",
     "shell.execute_reply": "2022-08-15T10:29:58.806492Z"
    },
    "papermill": {
     "duration": 0.529968,
     "end_time": "2022-08-15T10:29:58.809998",
     "exception": false,
     "start_time": "2022-08-15T10:29:58.280030",
     "status": "completed"
    },
    "tags": []
   },
   "outputs": [
    {
     "data": {
      "image/png": "[encoded data removed]",
      "text/plain": [
       "<Figure size 720x360 with 2 Axes>"
      ]
     },
     "metadata": {
      "needs_background": "light"
     },
     "output_type": "display_data"
    }
   ],
   "source": [
    "lst = sorted(features_dict.items(), key=lambda item: item[1], reverse=True)\n",
    "x,y = zip(*lst)\n",
    "\n",
    "fig, ax = plt.subplots(1,2, figsize=(10,5))\n",
    "\n",
    "sns.barplot(x=list(y),y=list(x), ax=ax[0])\n",
    "\n",
    "for p in ax[0].patches:\n",
    "    h, w, y = p.get_height(), p.get_width(), p.get_y()\n",
    "    ax[0].annotate(format(w, '.2f'), \n",
    "                (w, y+h/2.), \n",
    "                ha = 'center', va = 'center',\n",
    "                xytext=(15,0),\n",
    "                textcoords = 'offset points')\n",
    "    \n",
    "lim = round(max(max(Y_true), max(Y_pred)))\n",
    "xlims=(0,lim)\n",
    "ylims=(0,lim)\n",
    "sns.regplot(x=Y_true, y=Y_pred, scatter_kws={'alpha':0.3}, ax=ax[1])\n",
    "ax[1].plot(xlims, ylims, color='r');\n",
    "ax[1].set(xlabel='Observed', ylabel='Predicted');"
   ]
  },
  {
   "cell_type": "code",
   "execution_count": null,
   "id": "3c9ae0d6",
   "metadata": {
    "papermill": {
     "duration": 0.025887,
     "end_time": "2022-08-15T10:29:58.862833",
     "exception": false,
     "start_time": "2022-08-15T10:29:58.836946",
     "status": "completed"
    },
    "tags": []
   },
   "outputs": [],
   "source": []
  },
  {
   "cell_type": "code",
   "execution_count": null,
   "id": "8c20700a",
   "metadata": {
    "papermill": {
     "duration": 0.026008,
     "end_time": "2022-08-15T10:29:58.915021",
     "exception": false,
     "start_time": "2022-08-15T10:29:58.889013",
     "status": "completed"
    },
    "tags": []
   },
   "outputs": [],
   "source": []
  }
 ],
 "metadata": {
  "kernelspec": {
   "display_name": "Python 3",
   "language": "python",
   "name": "python3"
  },
  "language_info": {
   "codemirror_mode": {
    "name": "ipython",
    "version": 3
   },
   "file_extension": ".py",
   "mimetype": "text/x-python",
   "name": "python",
   "nbconvert_exporter": "python",
   "pygments_lexer": "ipython3",
   "version": "3.7.12"
  },
  "papermill": {
   "default_parameters": {},
   "duration": 60.256918,
   "end_time": "2022-08-15T10:30:00.068753",
   "environment_variables": {},
   "exception": null,
   "input_path": "__notebook__.ipynb",
   "output_path": "__notebook__.ipynb",
   "parameters": {},
   "start_time": "2022-08-15T10:28:59.811835",
   "version": "2.3.4"
  }
 },
 "nbformat": 4,
 "nbformat_minor": 5
}
